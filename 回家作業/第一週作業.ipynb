{
 "cells": [
  {
   "cell_type": "code",
   "execution_count": 1,
   "id": "0e64f7f7",
   "metadata": {},
   "outputs": [
    {
     "data": {
      "text/html": [
       "<div>\n",
       "<style scoped>\n",
       "    .dataframe tbody tr th:only-of-type {\n",
       "        vertical-align: middle;\n",
       "    }\n",
       "\n",
       "    .dataframe tbody tr th {\n",
       "        vertical-align: top;\n",
       "    }\n",
       "\n",
       "    .dataframe thead th {\n",
       "        text-align: right;\n",
       "    }\n",
       "</style>\n",
       "<table border=\"1\" class=\"dataframe\">\n",
       "  <thead>\n",
       "    <tr style=\"text-align: right;\">\n",
       "      <th></th>\n",
       "      <th>序號</th>\n",
       "      <th>國別地區</th>\n",
       "      <th>中文片名</th>\n",
       "      <th>申請人</th>\n",
       "      <th>出品</th>\n",
       "      <th>上映院數</th>\n",
       "      <th>銷售票數</th>\n",
       "      <th>銷售金額</th>\n",
       "      <th>累計銷售票數</th>\n",
       "      <th>累計銷售金額</th>\n",
       "    </tr>\n",
       "  </thead>\n",
       "  <tbody>\n",
       "    <tr>\n",
       "      <th>0</th>\n",
       "      <td>1</td>\n",
       "      <td>美國</td>\n",
       "      <td>金牌拳手III</td>\n",
       "      <td>美商華納兄弟（遠東）股份有限公司台灣分公司</td>\n",
       "      <td>WARNER BROS. PICTURES INTERNATIONAL.</td>\n",
       "      <td>55</td>\n",
       "      <td>8,224</td>\n",
       "      <td>&gt;=1000K</td>\n",
       "      <td>17,823</td>\n",
       "      <td>4,627,976</td>\n",
       "    </tr>\n",
       "    <tr>\n",
       "      <th>1</th>\n",
       "      <td>2</td>\n",
       "      <td>英國</td>\n",
       "      <td>小熊維尼：血與蜜</td>\n",
       "      <td>可樂藝術文創股份有限公司</td>\n",
       "      <td>PREMIERE ENTERTAINMENT GROUP LLC</td>\n",
       "      <td>48</td>\n",
       "      <td>2,016</td>\n",
       "      <td>&lt;1000K</td>\n",
       "      <td>5,521</td>\n",
       "      <td>1,338,961</td>\n",
       "    </tr>\n",
       "    <tr>\n",
       "      <th>2</th>\n",
       "      <td>3</td>\n",
       "      <td>中華民國</td>\n",
       "      <td>本日公休</td>\n",
       "      <td>威視股份有限公司</td>\n",
       "      <td>伯樂影業股份有限公司 ,華文創股份有限公司 ,有余企劃製作有限公司 ,得利影視股份有限公司 ...</td>\n",
       "      <td>79</td>\n",
       "      <td>23,052</td>\n",
       "      <td>&gt;=1000K</td>\n",
       "      <td>41,792</td>\n",
       "      <td>9,340,767</td>\n",
       "    </tr>\n",
       "    <tr>\n",
       "      <th>3</th>\n",
       "      <td>4</td>\n",
       "      <td>美國</td>\n",
       "      <td>火線埋伏</td>\n",
       "      <td>采昌國際多媒體股份有限公司</td>\n",
       "      <td>ATRIUM PRODUCTIONS KFT.</td>\n",
       "      <td>36</td>\n",
       "      <td>741</td>\n",
       "      <td>&lt;1000K</td>\n",
       "      <td>1,840</td>\n",
       "      <td>424,388</td>\n",
       "    </tr>\n",
       "    <tr>\n",
       "      <th>4</th>\n",
       "      <td>5</td>\n",
       "      <td>南韓</td>\n",
       "      <td>維特:音樂劇</td>\n",
       "      <td>仲業股份有限公司</td>\n",
       "      <td>Wys En Scene</td>\n",
       "      <td>9</td>\n",
       "      <td>1,243</td>\n",
       "      <td>&lt;1000K</td>\n",
       "      <td>2,578</td>\n",
       "      <td>1,416,330</td>\n",
       "    </tr>\n",
       "    <tr>\n",
       "      <th>...</th>\n",
       "      <td>...</td>\n",
       "      <td>...</td>\n",
       "      <td>...</td>\n",
       "      <td>...</td>\n",
       "      <td>...</td>\n",
       "      <td>...</td>\n",
       "      <td>...</td>\n",
       "      <td>...</td>\n",
       "      <td>...</td>\n",
       "      <td>...</td>\n",
       "    </tr>\n",
       "    <tr>\n",
       "      <th>77</th>\n",
       "      <td>78</td>\n",
       "      <td>美國</td>\n",
       "      <td>媽的多重宇宙</td>\n",
       "      <td>薩摩亞商雄讚股份有限公司台灣分公司</td>\n",
       "      <td>A24 INTERNATIONAL LLC</td>\n",
       "      <td>15</td>\n",
       "      <td>2,505</td>\n",
       "      <td>&lt;1000K</td>\n",
       "      <td>277,980</td>\n",
       "      <td>68,767,339</td>\n",
       "    </tr>\n",
       "    <tr>\n",
       "      <th>78</th>\n",
       "      <td>79</td>\n",
       "      <td>義大利</td>\n",
       "      <td>郵差</td>\n",
       "      <td>香港商甲上娛樂有限公司台灣分公司</td>\n",
       "      <td>Variety Distribution Srl</td>\n",
       "      <td>1</td>\n",
       "      <td>5</td>\n",
       "      <td>&lt;1000K</td>\n",
       "      <td>5,966</td>\n",
       "      <td>1,321,210</td>\n",
       "    </tr>\n",
       "    <tr>\n",
       "      <th>79</th>\n",
       "      <td>80</td>\n",
       "      <td>中華民國</td>\n",
       "      <td>悲情城市</td>\n",
       "      <td>國際電影事業有限公司</td>\n",
       "      <td>年代網際事業股份有限公司</td>\n",
       "      <td>61</td>\n",
       "      <td>11,822</td>\n",
       "      <td>&gt;=1000K</td>\n",
       "      <td>53,626</td>\n",
       "      <td>13,410,228</td>\n",
       "    </tr>\n",
       "    <tr>\n",
       "      <th>80</th>\n",
       "      <td>81</td>\n",
       "      <td>美國</td>\n",
       "      <td>哈勃望遠鏡</td>\n",
       "      <td>豪華大戲院股份有限公司</td>\n",
       "      <td>IMAX Corporation.</td>\n",
       "      <td>1</td>\n",
       "      <td>3</td>\n",
       "      <td>&lt;1000K</td>\n",
       "      <td>63</td>\n",
       "      <td>6,910</td>\n",
       "    </tr>\n",
       "    <tr>\n",
       "      <th>81</th>\n",
       "      <td>82</td>\n",
       "      <td>南斯拉夫</td>\n",
       "      <td>地下社會</td>\n",
       "      <td>前景娛樂有限公司</td>\n",
       "      <td>TF1 INTERNATIONAL</td>\n",
       "      <td>1</td>\n",
       "      <td>0</td>\n",
       "      <td>&lt;1000K</td>\n",
       "      <td>3,131</td>\n",
       "      <td>697,210</td>\n",
       "    </tr>\n",
       "  </tbody>\n",
       "</table>\n",
       "<p>82 rows × 10 columns</p>\n",
       "</div>"
      ],
      "text/plain": [
       "    序號  國別地區      中文片名                    申請人  \\\n",
       "0    1    美國   金牌拳手III  美商華納兄弟（遠東）股份有限公司台灣分公司   \n",
       "1    2    英國  小熊維尼：血與蜜           可樂藝術文創股份有限公司   \n",
       "2    3  中華民國      本日公休               威視股份有限公司   \n",
       "3    4    美國      火線埋伏          采昌國際多媒體股份有限公司   \n",
       "4    5    南韓    維特:音樂劇               仲業股份有限公司   \n",
       "..  ..   ...       ...                    ...   \n",
       "77  78    美國    媽的多重宇宙      薩摩亞商雄讚股份有限公司台灣分公司   \n",
       "78  79   義大利        郵差       香港商甲上娛樂有限公司台灣分公司   \n",
       "79  80  中華民國      悲情城市             國際電影事業有限公司   \n",
       "80  81    美國     哈勃望遠鏡            豪華大戲院股份有限公司   \n",
       "81  82  南斯拉夫      地下社會               前景娛樂有限公司   \n",
       "\n",
       "                                                   出品  上映院數    銷售票數     銷售金額  \\\n",
       "0                WARNER BROS. PICTURES INTERNATIONAL.    55   8,224  >=1000K   \n",
       "1                    PREMIERE ENTERTAINMENT GROUP LLC    48   2,016   <1000K   \n",
       "2   伯樂影業股份有限公司 ,華文創股份有限公司 ,有余企劃製作有限公司 ,得利影視股份有限公司 ...    79  23,052  >=1000K   \n",
       "3                             ATRIUM PRODUCTIONS KFT.    36     741   <1000K   \n",
       "4                                        Wys En Scene     9   1,243   <1000K   \n",
       "..                                                ...   ...     ...      ...   \n",
       "77                              A24 INTERNATIONAL LLC    15   2,505   <1000K   \n",
       "78                           Variety Distribution Srl     1       5   <1000K   \n",
       "79                                       年代網際事業股份有限公司    61  11,822  >=1000K   \n",
       "80                                  IMAX Corporation.     1       3   <1000K   \n",
       "81                                  TF1 INTERNATIONAL     1       0   <1000K   \n",
       "\n",
       "     累計銷售票數      累計銷售金額  \n",
       "0    17,823   4,627,976  \n",
       "1     5,521   1,338,961  \n",
       "2    41,792   9,340,767  \n",
       "3     1,840     424,388  \n",
       "4     2,578   1,416,330  \n",
       "..      ...         ...  \n",
       "77  277,980  68,767,339  \n",
       "78    5,966   1,321,210  \n",
       "79   53,626  13,410,228  \n",
       "80       63       6,910  \n",
       "81    3,131     697,210  \n",
       "\n",
       "[82 rows x 10 columns]"
      ]
     },
     "execution_count": 1,
     "metadata": {},
     "output_type": "execute_result"
    }
   ],
   "source": [
    "import pandas as pd\n",
    "\n",
    "film = pd.read_csv(\"film_income.csv\")\n",
    "film"
   ]
  },
  {
   "cell_type": "code",
   "execution_count": 2,
   "id": "58c40dfc",
   "metadata": {},
   "outputs": [
    {
     "data": {
      "text/plain": [
       "{'中華民國',\n",
       " '俄羅斯',\n",
       " '南斯拉夫',\n",
       " '南韓',\n",
       " '印度',\n",
       " '奧地利',\n",
       " '愛爾蘭',\n",
       " '日本',\n",
       " '法國',\n",
       " '瑞典',\n",
       " '美國',\n",
       " '義大利',\n",
       " '英國',\n",
       " '香港'}"
      ]
     },
     "execution_count": 2,
     "metadata": {},
     "output_type": "execute_result"
    }
   ],
   "source": [
    "#1. 請列清單這些電影的國別地區\n",
    "list1 = set(list(film['國別地區']))\n",
    "list1"
   ]
  },
  {
   "cell_type": "code",
   "execution_count": 3,
   "id": "40ae68e1",
   "metadata": {},
   "outputs": [
    {
     "data": {
      "text/plain": [
       "{'中影股份有限公司',\n",
       " '仲業股份有限公司',\n",
       " '傳影互動股份有限公司',\n",
       " '全民大劇團股份有限公司',\n",
       " '前景娛樂有限公司',\n",
       " '博偉電影股份有限公司',\n",
       " '原創娛樂股份有限公司',\n",
       " '可樂藝術文創股份有限公司',\n",
       " '台灣華特迪士尼股份有限公司',\n",
       " '國際電影事業有限公司',\n",
       " '好威映象有限公司',\n",
       " '威視股份有限公司',\n",
       " '希望影視行銷股份有限公司',\n",
       " '後場音像紀錄工作室有限公司',\n",
       " '捷傑有限公司',\n",
       " '春暉映像有限公司',\n",
       " '曼迪傳播有限公司',\n",
       " '木棉花國際股份有限公司',\n",
       " '本萃電影有限公司',\n",
       " '東昊影業有限公司',\n",
       " '海鵬影業有限公司',\n",
       " '牽猴子股份有限公司',\n",
       " '美商台灣索尼影業發行股份有限公司台灣分公司',\n",
       " '美商美國派拉蒙影片股份有限公司台灣分公司',\n",
       " '美商美國環球影片股份有限公司台灣分公司',\n",
       " '美商華納兄弟（遠東）股份有限公司台灣分公司',\n",
       " '聯影企業股份有限公司',\n",
       " '英屬蓋曼群島商威望國際娛樂股份有限公司台灣分公司',\n",
       " '華映國際文創股份有限公司',\n",
       " '華映娛樂股份有限公司',\n",
       " '薩摩亞商雄讚股份有限公司台灣分公司',\n",
       " '豪華大戲院股份有限公司',\n",
       " '車庫娛樂股份有限公司',\n",
       " '造次文化有限公司',\n",
       " '采昌國際多媒體股份有限公司',\n",
       " '香港商甲上娛樂有限公司台灣分公司',\n",
       " '鴻聯國際開發股份有限公司'}"
      ]
     },
     "execution_count": 3,
     "metadata": {},
     "output_type": "execute_result"
    }
   ],
   "source": [
    "#2. 列清單這些電影的申請人(製作公司)\n",
    "list2 = set(list(film['申請人']))\n",
    "list2"
   ]
  },
  {
   "cell_type": "code",
   "execution_count": 4,
   "id": "33617192",
   "metadata": {},
   "outputs": [
    {
     "data": {
      "text/html": [
       "<div>\n",
       "<style scoped>\n",
       "    .dataframe tbody tr th:only-of-type {\n",
       "        vertical-align: middle;\n",
       "    }\n",
       "\n",
       "    .dataframe tbody tr th {\n",
       "        vertical-align: top;\n",
       "    }\n",
       "\n",
       "    .dataframe thead th {\n",
       "        text-align: right;\n",
       "    }\n",
       "</style>\n",
       "<table border=\"1\" class=\"dataframe\">\n",
       "  <thead>\n",
       "    <tr style=\"text-align: right;\">\n",
       "      <th></th>\n",
       "      <th>mean</th>\n",
       "      <th>std</th>\n",
       "      <th>median</th>\n",
       "    </tr>\n",
       "    <tr>\n",
       "      <th>銷售金額</th>\n",
       "      <th></th>\n",
       "      <th></th>\n",
       "      <th></th>\n",
       "    </tr>\n",
       "  </thead>\n",
       "  <tbody>\n",
       "    <tr>\n",
       "      <th>&lt;1000K</th>\n",
       "      <td>12.589041</td>\n",
       "      <td>17.413146</td>\n",
       "      <td>5.0</td>\n",
       "    </tr>\n",
       "    <tr>\n",
       "      <th>&gt;=1000K</th>\n",
       "      <td>76.000000</td>\n",
       "      <td>23.254032</td>\n",
       "      <td>79.0</td>\n",
       "    </tr>\n",
       "  </tbody>\n",
       "</table>\n",
       "</div>"
      ],
      "text/plain": [
       "              mean        std  median\n",
       "銷售金額                                 \n",
       "<1000K   12.589041  17.413146     5.0\n",
       ">=1000K  76.000000  23.254032    79.0"
      ]
     },
     "execution_count": 4,
     "metadata": {},
     "output_type": "execute_result"
    }
   ],
   "source": [
    "#3. 以銷售金額進行 groupby 找出上映院數的分布\n",
    "銷售_income = film.groupby('銷售金額')['上映院數'].agg(['mean', 'std', 'median'])\n",
    "銷售_income"
   ]
  },
  {
   "cell_type": "code",
   "execution_count": 6,
   "id": "4850ecf8",
   "metadata": {},
   "outputs": [
    {
     "data": {
      "application/vnd.plotly.v1+json": {
       "config": {
        "plotlyServerURL": "https://plot.ly"
       },
       "data": [
        {
         "alignmentgroup": "True",
         "box": {
          "visible": true
         },
         "hovertemplate": "銷售金額=%{x}<br>上映院數=%{y}<extra></extra>",
         "legendgroup": ">=1000K",
         "marker": {
          "color": "#636efa"
         },
         "name": ">=1000K",
         "offsetgroup": ">=1000K",
         "orientation": "v",
         "points": "all",
         "scalegroup": "True",
         "showlegend": true,
         "type": "violin",
         "x": [
          ">=1000K",
          ">=1000K",
          ">=1000K",
          ">=1000K",
          ">=1000K",
          ">=1000K",
          ">=1000K",
          ">=1000K",
          ">=1000K"
         ],
         "x0": " ",
         "xaxis": "x",
         "y": [
          55,
          79,
          76,
          99,
          91,
          102,
          31,
          90,
          61
         ],
         "y0": " ",
         "yaxis": "y"
        },
        {
         "alignmentgroup": "True",
         "box": {
          "visible": true
         },
         "hovertemplate": "銷售金額=%{x}<br>上映院數=%{y}<extra></extra>",
         "legendgroup": "<1000K",
         "marker": {
          "color": "#EF553B"
         },
         "name": "<1000K",
         "offsetgroup": "<1000K",
         "orientation": "v",
         "points": "all",
         "scalegroup": "True",
         "showlegend": true,
         "type": "violin",
         "x": [
          "<1000K",
          "<1000K",
          "<1000K",
          "<1000K",
          "<1000K",
          "<1000K",
          "<1000K",
          "<1000K",
          "<1000K",
          "<1000K",
          "<1000K",
          "<1000K",
          "<1000K",
          "<1000K",
          "<1000K",
          "<1000K",
          "<1000K",
          "<1000K",
          "<1000K",
          "<1000K",
          "<1000K",
          "<1000K",
          "<1000K",
          "<1000K",
          "<1000K",
          "<1000K",
          "<1000K",
          "<1000K",
          "<1000K",
          "<1000K",
          "<1000K",
          "<1000K",
          "<1000K",
          "<1000K",
          "<1000K",
          "<1000K",
          "<1000K",
          "<1000K",
          "<1000K",
          "<1000K",
          "<1000K",
          "<1000K",
          "<1000K",
          "<1000K",
          "<1000K",
          "<1000K",
          "<1000K",
          "<1000K",
          "<1000K",
          "<1000K",
          "<1000K",
          "<1000K",
          "<1000K",
          "<1000K",
          "<1000K",
          "<1000K",
          "<1000K",
          "<1000K",
          "<1000K",
          "<1000K",
          "<1000K",
          "<1000K",
          "<1000K",
          "<1000K",
          "<1000K",
          "<1000K",
          "<1000K",
          "<1000K",
          "<1000K",
          "<1000K",
          "<1000K",
          "<1000K",
          "<1000K"
         ],
         "x0": " ",
         "xaxis": "x",
         "y": [
          48,
          36,
          9,
          20,
          9,
          28,
          15,
          36,
          20,
          28,
          47,
          29,
          14,
          5,
          11,
          91,
          5,
          51,
          69,
          4,
          3,
          1,
          13,
          1,
          1,
          11,
          11,
          1,
          1,
          16,
          4,
          7,
          38,
          20,
          3,
          1,
          19,
          8,
          1,
          18,
          3,
          9,
          1,
          3,
          7,
          4,
          1,
          1,
          18,
          1,
          1,
          1,
          48,
          3,
          11,
          3,
          1,
          3,
          2,
          1,
          8,
          2,
          2,
          2,
          1,
          1,
          1,
          1,
          8,
          15,
          1,
          1,
          1
         ],
         "y0": " ",
         "yaxis": "y"
        }
       ],
       "layout": {
        "legend": {
         "title": {
          "text": "銷售金額"
         },
         "tracegroupgap": 0
        },
        "margin": {
         "t": 60
        },
        "template": {
         "data": {
          "bar": [
           {
            "error_x": {
             "color": "#2a3f5f"
            },
            "error_y": {
             "color": "#2a3f5f"
            },
            "marker": {
             "line": {
              "color": "#E5ECF6",
              "width": 0.5
             },
             "pattern": {
              "fillmode": "overlay",
              "size": 10,
              "solidity": 0.2
             }
            },
            "type": "bar"
           }
          ],
          "barpolar": [
           {
            "marker": {
             "line": {
              "color": "#E5ECF6",
              "width": 0.5
             },
             "pattern": {
              "fillmode": "overlay",
              "size": 10,
              "solidity": 0.2
             }
            },
            "type": "barpolar"
           }
          ],
          "carpet": [
           {
            "aaxis": {
             "endlinecolor": "#2a3f5f",
             "gridcolor": "white",
             "linecolor": "white",
             "minorgridcolor": "white",
             "startlinecolor": "#2a3f5f"
            },
            "baxis": {
             "endlinecolor": "#2a3f5f",
             "gridcolor": "white",
             "linecolor": "white",
             "minorgridcolor": "white",
             "startlinecolor": "#2a3f5f"
            },
            "type": "carpet"
           }
          ],
          "choropleth": [
           {
            "colorbar": {
             "outlinewidth": 0,
             "ticks": ""
            },
            "type": "choropleth"
           }
          ],
          "contour": [
           {
            "colorbar": {
             "outlinewidth": 0,
             "ticks": ""
            },
            "colorscale": [
             [
              0,
              "#0d0887"
             ],
             [
              0.1111111111111111,
              "#46039f"
             ],
             [
              0.2222222222222222,
              "#7201a8"
             ],
             [
              0.3333333333333333,
              "#9c179e"
             ],
             [
              0.4444444444444444,
              "#bd3786"
             ],
             [
              0.5555555555555556,
              "#d8576b"
             ],
             [
              0.6666666666666666,
              "#ed7953"
             ],
             [
              0.7777777777777778,
              "#fb9f3a"
             ],
             [
              0.8888888888888888,
              "#fdca26"
             ],
             [
              1,
              "#f0f921"
             ]
            ],
            "type": "contour"
           }
          ],
          "contourcarpet": [
           {
            "colorbar": {
             "outlinewidth": 0,
             "ticks": ""
            },
            "type": "contourcarpet"
           }
          ],
          "heatmap": [
           {
            "colorbar": {
             "outlinewidth": 0,
             "ticks": ""
            },
            "colorscale": [
             [
              0,
              "#0d0887"
             ],
             [
              0.1111111111111111,
              "#46039f"
             ],
             [
              0.2222222222222222,
              "#7201a8"
             ],
             [
              0.3333333333333333,
              "#9c179e"
             ],
             [
              0.4444444444444444,
              "#bd3786"
             ],
             [
              0.5555555555555556,
              "#d8576b"
             ],
             [
              0.6666666666666666,
              "#ed7953"
             ],
             [
              0.7777777777777778,
              "#fb9f3a"
             ],
             [
              0.8888888888888888,
              "#fdca26"
             ],
             [
              1,
              "#f0f921"
             ]
            ],
            "type": "heatmap"
           }
          ],
          "heatmapgl": [
           {
            "colorbar": {
             "outlinewidth": 0,
             "ticks": ""
            },
            "colorscale": [
             [
              0,
              "#0d0887"
             ],
             [
              0.1111111111111111,
              "#46039f"
             ],
             [
              0.2222222222222222,
              "#7201a8"
             ],
             [
              0.3333333333333333,
              "#9c179e"
             ],
             [
              0.4444444444444444,
              "#bd3786"
             ],
             [
              0.5555555555555556,
              "#d8576b"
             ],
             [
              0.6666666666666666,
              "#ed7953"
             ],
             [
              0.7777777777777778,
              "#fb9f3a"
             ],
             [
              0.8888888888888888,
              "#fdca26"
             ],
             [
              1,
              "#f0f921"
             ]
            ],
            "type": "heatmapgl"
           }
          ],
          "histogram": [
           {
            "marker": {
             "pattern": {
              "fillmode": "overlay",
              "size": 10,
              "solidity": 0.2
             }
            },
            "type": "histogram"
           }
          ],
          "histogram2d": [
           {
            "colorbar": {
             "outlinewidth": 0,
             "ticks": ""
            },
            "colorscale": [
             [
              0,
              "#0d0887"
             ],
             [
              0.1111111111111111,
              "#46039f"
             ],
             [
              0.2222222222222222,
              "#7201a8"
             ],
             [
              0.3333333333333333,
              "#9c179e"
             ],
             [
              0.4444444444444444,
              "#bd3786"
             ],
             [
              0.5555555555555556,
              "#d8576b"
             ],
             [
              0.6666666666666666,
              "#ed7953"
             ],
             [
              0.7777777777777778,
              "#fb9f3a"
             ],
             [
              0.8888888888888888,
              "#fdca26"
             ],
             [
              1,
              "#f0f921"
             ]
            ],
            "type": "histogram2d"
           }
          ],
          "histogram2dcontour": [
           {
            "colorbar": {
             "outlinewidth": 0,
             "ticks": ""
            },
            "colorscale": [
             [
              0,
              "#0d0887"
             ],
             [
              0.1111111111111111,
              "#46039f"
             ],
             [
              0.2222222222222222,
              "#7201a8"
             ],
             [
              0.3333333333333333,
              "#9c179e"
             ],
             [
              0.4444444444444444,
              "#bd3786"
             ],
             [
              0.5555555555555556,
              "#d8576b"
             ],
             [
              0.6666666666666666,
              "#ed7953"
             ],
             [
              0.7777777777777778,
              "#fb9f3a"
             ],
             [
              0.8888888888888888,
              "#fdca26"
             ],
             [
              1,
              "#f0f921"
             ]
            ],
            "type": "histogram2dcontour"
           }
          ],
          "mesh3d": [
           {
            "colorbar": {
             "outlinewidth": 0,
             "ticks": ""
            },
            "type": "mesh3d"
           }
          ],
          "parcoords": [
           {
            "line": {
             "colorbar": {
              "outlinewidth": 0,
              "ticks": ""
             }
            },
            "type": "parcoords"
           }
          ],
          "pie": [
           {
            "automargin": true,
            "type": "pie"
           }
          ],
          "scatter": [
           {
            "fillpattern": {
             "fillmode": "overlay",
             "size": 10,
             "solidity": 0.2
            },
            "type": "scatter"
           }
          ],
          "scatter3d": [
           {
            "line": {
             "colorbar": {
              "outlinewidth": 0,
              "ticks": ""
             }
            },
            "marker": {
             "colorbar": {
              "outlinewidth": 0,
              "ticks": ""
             }
            },
            "type": "scatter3d"
           }
          ],
          "scattercarpet": [
           {
            "marker": {
             "colorbar": {
              "outlinewidth": 0,
              "ticks": ""
             }
            },
            "type": "scattercarpet"
           }
          ],
          "scattergeo": [
           {
            "marker": {
             "colorbar": {
              "outlinewidth": 0,
              "ticks": ""
             }
            },
            "type": "scattergeo"
           }
          ],
          "scattergl": [
           {
            "marker": {
             "colorbar": {
              "outlinewidth": 0,
              "ticks": ""
             }
            },
            "type": "scattergl"
           }
          ],
          "scattermapbox": [
           {
            "marker": {
             "colorbar": {
              "outlinewidth": 0,
              "ticks": ""
             }
            },
            "type": "scattermapbox"
           }
          ],
          "scatterpolar": [
           {
            "marker": {
             "colorbar": {
              "outlinewidth": 0,
              "ticks": ""
             }
            },
            "type": "scatterpolar"
           }
          ],
          "scatterpolargl": [
           {
            "marker": {
             "colorbar": {
              "outlinewidth": 0,
              "ticks": ""
             }
            },
            "type": "scatterpolargl"
           }
          ],
          "scatterternary": [
           {
            "marker": {
             "colorbar": {
              "outlinewidth": 0,
              "ticks": ""
             }
            },
            "type": "scatterternary"
           }
          ],
          "surface": [
           {
            "colorbar": {
             "outlinewidth": 0,
             "ticks": ""
            },
            "colorscale": [
             [
              0,
              "#0d0887"
             ],
             [
              0.1111111111111111,
              "#46039f"
             ],
             [
              0.2222222222222222,
              "#7201a8"
             ],
             [
              0.3333333333333333,
              "#9c179e"
             ],
             [
              0.4444444444444444,
              "#bd3786"
             ],
             [
              0.5555555555555556,
              "#d8576b"
             ],
             [
              0.6666666666666666,
              "#ed7953"
             ],
             [
              0.7777777777777778,
              "#fb9f3a"
             ],
             [
              0.8888888888888888,
              "#fdca26"
             ],
             [
              1,
              "#f0f921"
             ]
            ],
            "type": "surface"
           }
          ],
          "table": [
           {
            "cells": {
             "fill": {
              "color": "#EBF0F8"
             },
             "line": {
              "color": "white"
             }
            },
            "header": {
             "fill": {
              "color": "#C8D4E3"
             },
             "line": {
              "color": "white"
             }
            },
            "type": "table"
           }
          ]
         },
         "layout": {
          "annotationdefaults": {
           "arrowcolor": "#2a3f5f",
           "arrowhead": 0,
           "arrowwidth": 1
          },
          "autotypenumbers": "strict",
          "coloraxis": {
           "colorbar": {
            "outlinewidth": 0,
            "ticks": ""
           }
          },
          "colorscale": {
           "diverging": [
            [
             0,
             "#8e0152"
            ],
            [
             0.1,
             "#c51b7d"
            ],
            [
             0.2,
             "#de77ae"
            ],
            [
             0.3,
             "#f1b6da"
            ],
            [
             0.4,
             "#fde0ef"
            ],
            [
             0.5,
             "#f7f7f7"
            ],
            [
             0.6,
             "#e6f5d0"
            ],
            [
             0.7,
             "#b8e186"
            ],
            [
             0.8,
             "#7fbc41"
            ],
            [
             0.9,
             "#4d9221"
            ],
            [
             1,
             "#276419"
            ]
           ],
           "sequential": [
            [
             0,
             "#0d0887"
            ],
            [
             0.1111111111111111,
             "#46039f"
            ],
            [
             0.2222222222222222,
             "#7201a8"
            ],
            [
             0.3333333333333333,
             "#9c179e"
            ],
            [
             0.4444444444444444,
             "#bd3786"
            ],
            [
             0.5555555555555556,
             "#d8576b"
            ],
            [
             0.6666666666666666,
             "#ed7953"
            ],
            [
             0.7777777777777778,
             "#fb9f3a"
            ],
            [
             0.8888888888888888,
             "#fdca26"
            ],
            [
             1,
             "#f0f921"
            ]
           ],
           "sequentialminus": [
            [
             0,
             "#0d0887"
            ],
            [
             0.1111111111111111,
             "#46039f"
            ],
            [
             0.2222222222222222,
             "#7201a8"
            ],
            [
             0.3333333333333333,
             "#9c179e"
            ],
            [
             0.4444444444444444,
             "#bd3786"
            ],
            [
             0.5555555555555556,
             "#d8576b"
            ],
            [
             0.6666666666666666,
             "#ed7953"
            ],
            [
             0.7777777777777778,
             "#fb9f3a"
            ],
            [
             0.8888888888888888,
             "#fdca26"
            ],
            [
             1,
             "#f0f921"
            ]
           ]
          },
          "colorway": [
           "#636efa",
           "#EF553B",
           "#00cc96",
           "#ab63fa",
           "#FFA15A",
           "#19d3f3",
           "#FF6692",
           "#B6E880",
           "#FF97FF",
           "#FECB52"
          ],
          "font": {
           "color": "#2a3f5f"
          },
          "geo": {
           "bgcolor": "white",
           "lakecolor": "white",
           "landcolor": "#E5ECF6",
           "showlakes": true,
           "showland": true,
           "subunitcolor": "white"
          },
          "hoverlabel": {
           "align": "left"
          },
          "hovermode": "closest",
          "mapbox": {
           "style": "light"
          },
          "paper_bgcolor": "white",
          "plot_bgcolor": "#E5ECF6",
          "polar": {
           "angularaxis": {
            "gridcolor": "white",
            "linecolor": "white",
            "ticks": ""
           },
           "bgcolor": "#E5ECF6",
           "radialaxis": {
            "gridcolor": "white",
            "linecolor": "white",
            "ticks": ""
           }
          },
          "scene": {
           "xaxis": {
            "backgroundcolor": "#E5ECF6",
            "gridcolor": "white",
            "gridwidth": 2,
            "linecolor": "white",
            "showbackground": true,
            "ticks": "",
            "zerolinecolor": "white"
           },
           "yaxis": {
            "backgroundcolor": "#E5ECF6",
            "gridcolor": "white",
            "gridwidth": 2,
            "linecolor": "white",
            "showbackground": true,
            "ticks": "",
            "zerolinecolor": "white"
           },
           "zaxis": {
            "backgroundcolor": "#E5ECF6",
            "gridcolor": "white",
            "gridwidth": 2,
            "linecolor": "white",
            "showbackground": true,
            "ticks": "",
            "zerolinecolor": "white"
           }
          },
          "shapedefaults": {
           "line": {
            "color": "#2a3f5f"
           }
          },
          "ternary": {
           "aaxis": {
            "gridcolor": "white",
            "linecolor": "white",
            "ticks": ""
           },
           "baxis": {
            "gridcolor": "white",
            "linecolor": "white",
            "ticks": ""
           },
           "bgcolor": "#E5ECF6",
           "caxis": {
            "gridcolor": "white",
            "linecolor": "white",
            "ticks": ""
           }
          },
          "title": {
           "x": 0.05
          },
          "xaxis": {
           "automargin": true,
           "gridcolor": "white",
           "linecolor": "white",
           "ticks": "",
           "title": {
            "standoff": 15
           },
           "zerolinecolor": "white",
           "zerolinewidth": 2
          },
          "yaxis": {
           "automargin": true,
           "gridcolor": "white",
           "linecolor": "white",
           "ticks": "",
           "title": {
            "standoff": 15
           },
           "zerolinecolor": "white",
           "zerolinewidth": 2
          }
         }
        },
        "violinmode": "overlay",
        "xaxis": {
         "anchor": "y",
         "categoryarray": [
          ">=1000K",
          "<1000K"
         ],
         "categoryorder": "array",
         "domain": [
          0,
          1
         ],
         "title": {
          "text": "銷售金額"
         }
        },
        "yaxis": {
         "anchor": "x",
         "domain": [
          0,
          1
         ],
         "title": {
          "text": "上映院數"
         }
        }
       }
      },
      "text/html": [
       "<div>                            <div id=\"665f9655-5006-4e98-8111-ed5356eef5c7\" class=\"plotly-graph-div\" style=\"height:525px; width:100%;\"></div>            <script type=\"text/javascript\">                require([\"plotly\"], function(Plotly) {                    window.PLOTLYENV=window.PLOTLYENV || {};                                    if (document.getElementById(\"665f9655-5006-4e98-8111-ed5356eef5c7\")) {                    Plotly.newPlot(                        \"665f9655-5006-4e98-8111-ed5356eef5c7\",                        [{\"alignmentgroup\":\"True\",\"box\":{\"visible\":true},\"hovertemplate\":\"\\u92b7\\u552e\\u91d1\\u984d=%{x}<br>\\u4e0a\\u6620\\u9662\\u6578=%{y}<extra></extra>\",\"legendgroup\":\">=1000K\",\"marker\":{\"color\":\"#636efa\"},\"name\":\">=1000K\",\"offsetgroup\":\">=1000K\",\"orientation\":\"v\",\"points\":\"all\",\"scalegroup\":\"True\",\"showlegend\":true,\"x\":[\">=1000K\",\">=1000K\",\">=1000K\",\">=1000K\",\">=1000K\",\">=1000K\",\">=1000K\",\">=1000K\",\">=1000K\"],\"x0\":\" \",\"xaxis\":\"x\",\"y\":[55,79,76,99,91,102,31,90,61],\"y0\":\" \",\"yaxis\":\"y\",\"type\":\"violin\"},{\"alignmentgroup\":\"True\",\"box\":{\"visible\":true},\"hovertemplate\":\"\\u92b7\\u552e\\u91d1\\u984d=%{x}<br>\\u4e0a\\u6620\\u9662\\u6578=%{y}<extra></extra>\",\"legendgroup\":\"<1000K\",\"marker\":{\"color\":\"#EF553B\"},\"name\":\"<1000K\",\"offsetgroup\":\"<1000K\",\"orientation\":\"v\",\"points\":\"all\",\"scalegroup\":\"True\",\"showlegend\":true,\"x\":[\"<1000K\",\"<1000K\",\"<1000K\",\"<1000K\",\"<1000K\",\"<1000K\",\"<1000K\",\"<1000K\",\"<1000K\",\"<1000K\",\"<1000K\",\"<1000K\",\"<1000K\",\"<1000K\",\"<1000K\",\"<1000K\",\"<1000K\",\"<1000K\",\"<1000K\",\"<1000K\",\"<1000K\",\"<1000K\",\"<1000K\",\"<1000K\",\"<1000K\",\"<1000K\",\"<1000K\",\"<1000K\",\"<1000K\",\"<1000K\",\"<1000K\",\"<1000K\",\"<1000K\",\"<1000K\",\"<1000K\",\"<1000K\",\"<1000K\",\"<1000K\",\"<1000K\",\"<1000K\",\"<1000K\",\"<1000K\",\"<1000K\",\"<1000K\",\"<1000K\",\"<1000K\",\"<1000K\",\"<1000K\",\"<1000K\",\"<1000K\",\"<1000K\",\"<1000K\",\"<1000K\",\"<1000K\",\"<1000K\",\"<1000K\",\"<1000K\",\"<1000K\",\"<1000K\",\"<1000K\",\"<1000K\",\"<1000K\",\"<1000K\",\"<1000K\",\"<1000K\",\"<1000K\",\"<1000K\",\"<1000K\",\"<1000K\",\"<1000K\",\"<1000K\",\"<1000K\",\"<1000K\"],\"x0\":\" \",\"xaxis\":\"x\",\"y\":[48,36,9,20,9,28,15,36,20,28,47,29,14,5,11,91,5,51,69,4,3,1,13,1,1,11,11,1,1,16,4,7,38,20,3,1,19,8,1,18,3,9,1,3,7,4,1,1,18,1,1,1,48,3,11,3,1,3,2,1,8,2,2,2,1,1,1,1,8,15,1,1,1],\"y0\":\" \",\"yaxis\":\"y\",\"type\":\"violin\"}],                        {\"template\":{\"data\":{\"histogram2dcontour\":[{\"type\":\"histogram2dcontour\",\"colorbar\":{\"outlinewidth\":0,\"ticks\":\"\"},\"colorscale\":[[0.0,\"#0d0887\"],[0.1111111111111111,\"#46039f\"],[0.2222222222222222,\"#7201a8\"],[0.3333333333333333,\"#9c179e\"],[0.4444444444444444,\"#bd3786\"],[0.5555555555555556,\"#d8576b\"],[0.6666666666666666,\"#ed7953\"],[0.7777777777777778,\"#fb9f3a\"],[0.8888888888888888,\"#fdca26\"],[1.0,\"#f0f921\"]]}],\"choropleth\":[{\"type\":\"choropleth\",\"colorbar\":{\"outlinewidth\":0,\"ticks\":\"\"}}],\"histogram2d\":[{\"type\":\"histogram2d\",\"colorbar\":{\"outlinewidth\":0,\"ticks\":\"\"},\"colorscale\":[[0.0,\"#0d0887\"],[0.1111111111111111,\"#46039f\"],[0.2222222222222222,\"#7201a8\"],[0.3333333333333333,\"#9c179e\"],[0.4444444444444444,\"#bd3786\"],[0.5555555555555556,\"#d8576b\"],[0.6666666666666666,\"#ed7953\"],[0.7777777777777778,\"#fb9f3a\"],[0.8888888888888888,\"#fdca26\"],[1.0,\"#f0f921\"]]}],\"heatmap\":[{\"type\":\"heatmap\",\"colorbar\":{\"outlinewidth\":0,\"ticks\":\"\"},\"colorscale\":[[0.0,\"#0d0887\"],[0.1111111111111111,\"#46039f\"],[0.2222222222222222,\"#7201a8\"],[0.3333333333333333,\"#9c179e\"],[0.4444444444444444,\"#bd3786\"],[0.5555555555555556,\"#d8576b\"],[0.6666666666666666,\"#ed7953\"],[0.7777777777777778,\"#fb9f3a\"],[0.8888888888888888,\"#fdca26\"],[1.0,\"#f0f921\"]]}],\"heatmapgl\":[{\"type\":\"heatmapgl\",\"colorbar\":{\"outlinewidth\":0,\"ticks\":\"\"},\"colorscale\":[[0.0,\"#0d0887\"],[0.1111111111111111,\"#46039f\"],[0.2222222222222222,\"#7201a8\"],[0.3333333333333333,\"#9c179e\"],[0.4444444444444444,\"#bd3786\"],[0.5555555555555556,\"#d8576b\"],[0.6666666666666666,\"#ed7953\"],[0.7777777777777778,\"#fb9f3a\"],[0.8888888888888888,\"#fdca26\"],[1.0,\"#f0f921\"]]}],\"contourcarpet\":[{\"type\":\"contourcarpet\",\"colorbar\":{\"outlinewidth\":0,\"ticks\":\"\"}}],\"contour\":[{\"type\":\"contour\",\"colorbar\":{\"outlinewidth\":0,\"ticks\":\"\"},\"colorscale\":[[0.0,\"#0d0887\"],[0.1111111111111111,\"#46039f\"],[0.2222222222222222,\"#7201a8\"],[0.3333333333333333,\"#9c179e\"],[0.4444444444444444,\"#bd3786\"],[0.5555555555555556,\"#d8576b\"],[0.6666666666666666,\"#ed7953\"],[0.7777777777777778,\"#fb9f3a\"],[0.8888888888888888,\"#fdca26\"],[1.0,\"#f0f921\"]]}],\"surface\":[{\"type\":\"surface\",\"colorbar\":{\"outlinewidth\":0,\"ticks\":\"\"},\"colorscale\":[[0.0,\"#0d0887\"],[0.1111111111111111,\"#46039f\"],[0.2222222222222222,\"#7201a8\"],[0.3333333333333333,\"#9c179e\"],[0.4444444444444444,\"#bd3786\"],[0.5555555555555556,\"#d8576b\"],[0.6666666666666666,\"#ed7953\"],[0.7777777777777778,\"#fb9f3a\"],[0.8888888888888888,\"#fdca26\"],[1.0,\"#f0f921\"]]}],\"mesh3d\":[{\"type\":\"mesh3d\",\"colorbar\":{\"outlinewidth\":0,\"ticks\":\"\"}}],\"scatter\":[{\"fillpattern\":{\"fillmode\":\"overlay\",\"size\":10,\"solidity\":0.2},\"type\":\"scatter\"}],\"parcoords\":[{\"type\":\"parcoords\",\"line\":{\"colorbar\":{\"outlinewidth\":0,\"ticks\":\"\"}}}],\"scatterpolargl\":[{\"type\":\"scatterpolargl\",\"marker\":{\"colorbar\":{\"outlinewidth\":0,\"ticks\":\"\"}}}],\"bar\":[{\"error_x\":{\"color\":\"#2a3f5f\"},\"error_y\":{\"color\":\"#2a3f5f\"},\"marker\":{\"line\":{\"color\":\"#E5ECF6\",\"width\":0.5},\"pattern\":{\"fillmode\":\"overlay\",\"size\":10,\"solidity\":0.2}},\"type\":\"bar\"}],\"scattergeo\":[{\"type\":\"scattergeo\",\"marker\":{\"colorbar\":{\"outlinewidth\":0,\"ticks\":\"\"}}}],\"scatterpolar\":[{\"type\":\"scatterpolar\",\"marker\":{\"colorbar\":{\"outlinewidth\":0,\"ticks\":\"\"}}}],\"histogram\":[{\"marker\":{\"pattern\":{\"fillmode\":\"overlay\",\"size\":10,\"solidity\":0.2}},\"type\":\"histogram\"}],\"scattergl\":[{\"type\":\"scattergl\",\"marker\":{\"colorbar\":{\"outlinewidth\":0,\"ticks\":\"\"}}}],\"scatter3d\":[{\"type\":\"scatter3d\",\"line\":{\"colorbar\":{\"outlinewidth\":0,\"ticks\":\"\"}},\"marker\":{\"colorbar\":{\"outlinewidth\":0,\"ticks\":\"\"}}}],\"scattermapbox\":[{\"type\":\"scattermapbox\",\"marker\":{\"colorbar\":{\"outlinewidth\":0,\"ticks\":\"\"}}}],\"scatterternary\":[{\"type\":\"scatterternary\",\"marker\":{\"colorbar\":{\"outlinewidth\":0,\"ticks\":\"\"}}}],\"scattercarpet\":[{\"type\":\"scattercarpet\",\"marker\":{\"colorbar\":{\"outlinewidth\":0,\"ticks\":\"\"}}}],\"carpet\":[{\"aaxis\":{\"endlinecolor\":\"#2a3f5f\",\"gridcolor\":\"white\",\"linecolor\":\"white\",\"minorgridcolor\":\"white\",\"startlinecolor\":\"#2a3f5f\"},\"baxis\":{\"endlinecolor\":\"#2a3f5f\",\"gridcolor\":\"white\",\"linecolor\":\"white\",\"minorgridcolor\":\"white\",\"startlinecolor\":\"#2a3f5f\"},\"type\":\"carpet\"}],\"table\":[{\"cells\":{\"fill\":{\"color\":\"#EBF0F8\"},\"line\":{\"color\":\"white\"}},\"header\":{\"fill\":{\"color\":\"#C8D4E3\"},\"line\":{\"color\":\"white\"}},\"type\":\"table\"}],\"barpolar\":[{\"marker\":{\"line\":{\"color\":\"#E5ECF6\",\"width\":0.5},\"pattern\":{\"fillmode\":\"overlay\",\"size\":10,\"solidity\":0.2}},\"type\":\"barpolar\"}],\"pie\":[{\"automargin\":true,\"type\":\"pie\"}]},\"layout\":{\"autotypenumbers\":\"strict\",\"colorway\":[\"#636efa\",\"#EF553B\",\"#00cc96\",\"#ab63fa\",\"#FFA15A\",\"#19d3f3\",\"#FF6692\",\"#B6E880\",\"#FF97FF\",\"#FECB52\"],\"font\":{\"color\":\"#2a3f5f\"},\"hovermode\":\"closest\",\"hoverlabel\":{\"align\":\"left\"},\"paper_bgcolor\":\"white\",\"plot_bgcolor\":\"#E5ECF6\",\"polar\":{\"bgcolor\":\"#E5ECF6\",\"angularaxis\":{\"gridcolor\":\"white\",\"linecolor\":\"white\",\"ticks\":\"\"},\"radialaxis\":{\"gridcolor\":\"white\",\"linecolor\":\"white\",\"ticks\":\"\"}},\"ternary\":{\"bgcolor\":\"#E5ECF6\",\"aaxis\":{\"gridcolor\":\"white\",\"linecolor\":\"white\",\"ticks\":\"\"},\"baxis\":{\"gridcolor\":\"white\",\"linecolor\":\"white\",\"ticks\":\"\"},\"caxis\":{\"gridcolor\":\"white\",\"linecolor\":\"white\",\"ticks\":\"\"}},\"coloraxis\":{\"colorbar\":{\"outlinewidth\":0,\"ticks\":\"\"}},\"colorscale\":{\"sequential\":[[0.0,\"#0d0887\"],[0.1111111111111111,\"#46039f\"],[0.2222222222222222,\"#7201a8\"],[0.3333333333333333,\"#9c179e\"],[0.4444444444444444,\"#bd3786\"],[0.5555555555555556,\"#d8576b\"],[0.6666666666666666,\"#ed7953\"],[0.7777777777777778,\"#fb9f3a\"],[0.8888888888888888,\"#fdca26\"],[1.0,\"#f0f921\"]],\"sequentialminus\":[[0.0,\"#0d0887\"],[0.1111111111111111,\"#46039f\"],[0.2222222222222222,\"#7201a8\"],[0.3333333333333333,\"#9c179e\"],[0.4444444444444444,\"#bd3786\"],[0.5555555555555556,\"#d8576b\"],[0.6666666666666666,\"#ed7953\"],[0.7777777777777778,\"#fb9f3a\"],[0.8888888888888888,\"#fdca26\"],[1.0,\"#f0f921\"]],\"diverging\":[[0,\"#8e0152\"],[0.1,\"#c51b7d\"],[0.2,\"#de77ae\"],[0.3,\"#f1b6da\"],[0.4,\"#fde0ef\"],[0.5,\"#f7f7f7\"],[0.6,\"#e6f5d0\"],[0.7,\"#b8e186\"],[0.8,\"#7fbc41\"],[0.9,\"#4d9221\"],[1,\"#276419\"]]},\"xaxis\":{\"gridcolor\":\"white\",\"linecolor\":\"white\",\"ticks\":\"\",\"title\":{\"standoff\":15},\"zerolinecolor\":\"white\",\"automargin\":true,\"zerolinewidth\":2},\"yaxis\":{\"gridcolor\":\"white\",\"linecolor\":\"white\",\"ticks\":\"\",\"title\":{\"standoff\":15},\"zerolinecolor\":\"white\",\"automargin\":true,\"zerolinewidth\":2},\"scene\":{\"xaxis\":{\"backgroundcolor\":\"#E5ECF6\",\"gridcolor\":\"white\",\"linecolor\":\"white\",\"showbackground\":true,\"ticks\":\"\",\"zerolinecolor\":\"white\",\"gridwidth\":2},\"yaxis\":{\"backgroundcolor\":\"#E5ECF6\",\"gridcolor\":\"white\",\"linecolor\":\"white\",\"showbackground\":true,\"ticks\":\"\",\"zerolinecolor\":\"white\",\"gridwidth\":2},\"zaxis\":{\"backgroundcolor\":\"#E5ECF6\",\"gridcolor\":\"white\",\"linecolor\":\"white\",\"showbackground\":true,\"ticks\":\"\",\"zerolinecolor\":\"white\",\"gridwidth\":2}},\"shapedefaults\":{\"line\":{\"color\":\"#2a3f5f\"}},\"annotationdefaults\":{\"arrowcolor\":\"#2a3f5f\",\"arrowhead\":0,\"arrowwidth\":1},\"geo\":{\"bgcolor\":\"white\",\"landcolor\":\"#E5ECF6\",\"subunitcolor\":\"white\",\"showland\":true,\"showlakes\":true,\"lakecolor\":\"white\"},\"title\":{\"x\":0.05},\"mapbox\":{\"style\":\"light\"}}},\"xaxis\":{\"anchor\":\"y\",\"domain\":[0.0,1.0],\"title\":{\"text\":\"\\u92b7\\u552e\\u91d1\\u984d\"},\"categoryorder\":\"array\",\"categoryarray\":[\">=1000K\",\"<1000K\"]},\"yaxis\":{\"anchor\":\"x\",\"domain\":[0.0,1.0],\"title\":{\"text\":\"\\u4e0a\\u6620\\u9662\\u6578\"}},\"legend\":{\"title\":{\"text\":\"\\u92b7\\u552e\\u91d1\\u984d\"},\"tracegroupgap\":0},\"margin\":{\"t\":60},\"violinmode\":\"overlay\"},                        {\"responsive\": true}                    ).then(function(){\n",
       "                            \n",
       "var gd = document.getElementById('665f9655-5006-4e98-8111-ed5356eef5c7');\n",
       "var x = new MutationObserver(function (mutations, observer) {{\n",
       "        var display = window.getComputedStyle(gd).display;\n",
       "        if (!display || display === 'none') {{\n",
       "            console.log([gd, 'removed!']);\n",
       "            Plotly.purge(gd);\n",
       "            observer.disconnect();\n",
       "        }}\n",
       "}});\n",
       "\n",
       "// Listen for the removal of the full notebook cells\n",
       "var notebookContainer = gd.closest('#notebook-container');\n",
       "if (notebookContainer) {{\n",
       "    x.observe(notebookContainer, {childList: true});\n",
       "}}\n",
       "\n",
       "// Listen for the clearing of the current output cell\n",
       "var outputEl = gd.closest('.output');\n",
       "if (outputEl) {{\n",
       "    x.observe(outputEl, {childList: true});\n",
       "}}\n",
       "\n",
       "                        })                };                });            </script>        </div>"
      ]
     },
     "metadata": {},
     "output_type": "display_data"
    }
   ],
   "source": [
    "#4. 劃出銷售金額跟上映院數的分布圖\n",
    "銷售_院數 = film[['銷售金額', '上映院數']]\n",
    "\n",
    "import plotly.express as px\n",
    "\n",
    "fig = px.violin(銷售_院數, y=\"上映院數\", x=\"銷售金額\", color=\"銷售金額\", box=True, points=\"all\",\n",
    "          hover_data=銷售_院數.columns)\n",
    "fig.show()"
   ]
  },
  {
   "cell_type": "code",
   "execution_count": 7,
   "id": "e78e911a",
   "metadata": {},
   "outputs": [
    {
     "data": {
      "text/html": [
       "<div>\n",
       "<style scoped>\n",
       "    .dataframe tbody tr th:only-of-type {\n",
       "        vertical-align: middle;\n",
       "    }\n",
       "\n",
       "    .dataframe tbody tr th {\n",
       "        vertical-align: top;\n",
       "    }\n",
       "\n",
       "    .dataframe thead th {\n",
       "        text-align: right;\n",
       "    }\n",
       "</style>\n",
       "<table border=\"1\" class=\"dataframe\">\n",
       "  <thead>\n",
       "    <tr style=\"text-align: right;\">\n",
       "      <th>銷售金額</th>\n",
       "      <th>&lt;1000K</th>\n",
       "      <th>&gt;=1000K</th>\n",
       "    </tr>\n",
       "    <tr>\n",
       "      <th>國別地區</th>\n",
       "      <th></th>\n",
       "      <th></th>\n",
       "    </tr>\n",
       "  </thead>\n",
       "  <tbody>\n",
       "    <tr>\n",
       "      <th>中華民國</th>\n",
       "      <td>7.0</td>\n",
       "      <td>4.0</td>\n",
       "    </tr>\n",
       "    <tr>\n",
       "      <th>俄羅斯</th>\n",
       "      <td>1.0</td>\n",
       "      <td>NaN</td>\n",
       "    </tr>\n",
       "    <tr>\n",
       "      <th>南斯拉夫</th>\n",
       "      <td>1.0</td>\n",
       "      <td>NaN</td>\n",
       "    </tr>\n",
       "    <tr>\n",
       "      <th>南韓</th>\n",
       "      <td>4.0</td>\n",
       "      <td>NaN</td>\n",
       "    </tr>\n",
       "    <tr>\n",
       "      <th>印度</th>\n",
       "      <td>1.0</td>\n",
       "      <td>NaN</td>\n",
       "    </tr>\n",
       "    <tr>\n",
       "      <th>奧地利</th>\n",
       "      <td>1.0</td>\n",
       "      <td>NaN</td>\n",
       "    </tr>\n",
       "    <tr>\n",
       "      <th>愛爾蘭</th>\n",
       "      <td>1.0</td>\n",
       "      <td>NaN</td>\n",
       "    </tr>\n",
       "    <tr>\n",
       "      <th>日本</th>\n",
       "      <td>11.0</td>\n",
       "      <td>3.0</td>\n",
       "    </tr>\n",
       "    <tr>\n",
       "      <th>法國</th>\n",
       "      <td>8.0</td>\n",
       "      <td>NaN</td>\n",
       "    </tr>\n",
       "    <tr>\n",
       "      <th>瑞典</th>\n",
       "      <td>1.0</td>\n",
       "      <td>NaN</td>\n",
       "    </tr>\n",
       "    <tr>\n",
       "      <th>美國</th>\n",
       "      <td>28.0</td>\n",
       "      <td>2.0</td>\n",
       "    </tr>\n",
       "    <tr>\n",
       "      <th>義大利</th>\n",
       "      <td>1.0</td>\n",
       "      <td>NaN</td>\n",
       "    </tr>\n",
       "    <tr>\n",
       "      <th>英國</th>\n",
       "      <td>4.0</td>\n",
       "      <td>NaN</td>\n",
       "    </tr>\n",
       "    <tr>\n",
       "      <th>香港</th>\n",
       "      <td>4.0</td>\n",
       "      <td>NaN</td>\n",
       "    </tr>\n",
       "  </tbody>\n",
       "</table>\n",
       "</div>"
      ],
      "text/plain": [
       "銷售金額  <1000K  >=1000K\n",
       "國別地區                 \n",
       "中華民國     7.0      4.0\n",
       "俄羅斯      1.0      NaN\n",
       "南斯拉夫     1.0      NaN\n",
       "南韓       4.0      NaN\n",
       "印度       1.0      NaN\n",
       "奧地利      1.0      NaN\n",
       "愛爾蘭      1.0      NaN\n",
       "日本      11.0      3.0\n",
       "法國       8.0      NaN\n",
       "瑞典       1.0      NaN\n",
       "美國      28.0      2.0\n",
       "義大利      1.0      NaN\n",
       "英國       4.0      NaN\n",
       "香港       4.0      NaN"
      ]
     },
     "execution_count": 7,
     "metadata": {},
     "output_type": "execute_result"
    }
   ],
   "source": [
    "#5. 計算每個銷售金額中>=1000K和<1000K的國別地區\n",
    "income_region = film.groupby(['國別地區', '銷售金額'])['上映院數'].count().unstack()\n",
    "income_region"
   ]
  },
  {
   "cell_type": "code",
   "execution_count": 8,
   "id": "aeb0980d",
   "metadata": {},
   "outputs": [
    {
     "data": {
      "text/html": [
       "<div>\n",
       "<style scoped>\n",
       "    .dataframe tbody tr th:only-of-type {\n",
       "        vertical-align: middle;\n",
       "    }\n",
       "\n",
       "    .dataframe tbody tr th {\n",
       "        vertical-align: top;\n",
       "    }\n",
       "\n",
       "    .dataframe thead th {\n",
       "        text-align: right;\n",
       "    }\n",
       "</style>\n",
       "<table border=\"1\" class=\"dataframe\">\n",
       "  <thead>\n",
       "    <tr style=\"text-align: right;\">\n",
       "      <th>銷售金額</th>\n",
       "      <th>&lt;1000K</th>\n",
       "      <th>&gt;=1000K</th>\n",
       "      <th>low_income_ratio</th>\n",
       "      <th>high_income_ratio</th>\n",
       "    </tr>\n",
       "    <tr>\n",
       "      <th>國別地區</th>\n",
       "      <th></th>\n",
       "      <th></th>\n",
       "      <th></th>\n",
       "      <th></th>\n",
       "    </tr>\n",
       "  </thead>\n",
       "  <tbody>\n",
       "    <tr>\n",
       "      <th>中華民國</th>\n",
       "      <td>7.0</td>\n",
       "      <td>4.0</td>\n",
       "      <td>0.636364</td>\n",
       "      <td>0.343750</td>\n",
       "    </tr>\n",
       "    <tr>\n",
       "      <th>俄羅斯</th>\n",
       "      <td>1.0</td>\n",
       "      <td>NaN</td>\n",
       "      <td>1.000000</td>\n",
       "      <td>NaN</td>\n",
       "    </tr>\n",
       "    <tr>\n",
       "      <th>南斯拉夫</th>\n",
       "      <td>1.0</td>\n",
       "      <td>NaN</td>\n",
       "      <td>1.000000</td>\n",
       "      <td>NaN</td>\n",
       "    </tr>\n",
       "    <tr>\n",
       "      <th>南韓</th>\n",
       "      <td>4.0</td>\n",
       "      <td>NaN</td>\n",
       "      <td>1.000000</td>\n",
       "      <td>NaN</td>\n",
       "    </tr>\n",
       "    <tr>\n",
       "      <th>印度</th>\n",
       "      <td>1.0</td>\n",
       "      <td>NaN</td>\n",
       "      <td>1.000000</td>\n",
       "      <td>NaN</td>\n",
       "    </tr>\n",
       "    <tr>\n",
       "      <th>奧地利</th>\n",
       "      <td>1.0</td>\n",
       "      <td>NaN</td>\n",
       "      <td>1.000000</td>\n",
       "      <td>NaN</td>\n",
       "    </tr>\n",
       "    <tr>\n",
       "      <th>愛爾蘭</th>\n",
       "      <td>1.0</td>\n",
       "      <td>NaN</td>\n",
       "      <td>1.000000</td>\n",
       "      <td>NaN</td>\n",
       "    </tr>\n",
       "    <tr>\n",
       "      <th>日本</th>\n",
       "      <td>11.0</td>\n",
       "      <td>3.0</td>\n",
       "      <td>0.785714</td>\n",
       "      <td>0.202899</td>\n",
       "    </tr>\n",
       "    <tr>\n",
       "      <th>法國</th>\n",
       "      <td>8.0</td>\n",
       "      <td>NaN</td>\n",
       "      <td>1.000000</td>\n",
       "      <td>NaN</td>\n",
       "    </tr>\n",
       "    <tr>\n",
       "      <th>瑞典</th>\n",
       "      <td>1.0</td>\n",
       "      <td>NaN</td>\n",
       "      <td>1.000000</td>\n",
       "      <td>NaN</td>\n",
       "    </tr>\n",
       "    <tr>\n",
       "      <th>美國</th>\n",
       "      <td>28.0</td>\n",
       "      <td>2.0</td>\n",
       "      <td>0.933333</td>\n",
       "      <td>0.064655</td>\n",
       "    </tr>\n",
       "    <tr>\n",
       "      <th>義大利</th>\n",
       "      <td>1.0</td>\n",
       "      <td>NaN</td>\n",
       "      <td>1.000000</td>\n",
       "      <td>NaN</td>\n",
       "    </tr>\n",
       "    <tr>\n",
       "      <th>英國</th>\n",
       "      <td>4.0</td>\n",
       "      <td>NaN</td>\n",
       "      <td>1.000000</td>\n",
       "      <td>NaN</td>\n",
       "    </tr>\n",
       "    <tr>\n",
       "      <th>香港</th>\n",
       "      <td>4.0</td>\n",
       "      <td>NaN</td>\n",
       "      <td>1.000000</td>\n",
       "      <td>NaN</td>\n",
       "    </tr>\n",
       "  </tbody>\n",
       "</table>\n",
       "</div>"
      ],
      "text/plain": [
       "銷售金額  <1000K  >=1000K  low_income_ratio  high_income_ratio\n",
       "國別地區                                                      \n",
       "中華民國     7.0      4.0          0.636364           0.343750\n",
       "俄羅斯      1.0      NaN          1.000000                NaN\n",
       "南斯拉夫     1.0      NaN          1.000000                NaN\n",
       "南韓       4.0      NaN          1.000000                NaN\n",
       "印度       1.0      NaN          1.000000                NaN\n",
       "奧地利      1.0      NaN          1.000000                NaN\n",
       "愛爾蘭      1.0      NaN          1.000000                NaN\n",
       "日本      11.0      3.0          0.785714           0.202899\n",
       "法國       8.0      NaN          1.000000                NaN\n",
       "瑞典       1.0      NaN          1.000000                NaN\n",
       "美國      28.0      2.0          0.933333           0.064655\n",
       "義大利      1.0      NaN          1.000000                NaN\n",
       "英國       4.0      NaN          1.000000                NaN\n",
       "香港       4.0      NaN          1.000000                NaN"
      ]
     },
     "execution_count": 8,
     "metadata": {},
     "output_type": "execute_result"
    }
   ],
   "source": [
    "#6. 計算每個電影類型中，>=1000K與<1000K電影佔該總電影的比例\n",
    "income_region['low_income_ratio'] = income_region['<1000K'] / income_region.sum(axis=1)\n",
    "income_region['high_income_ratio'] = income_region['>=1000K'] / income_region.sum(axis=1)\n",
    "income_region"
   ]
  },
  {
   "cell_type": "code",
   "execution_count": 9,
   "id": "24a09ec9",
   "metadata": {
    "scrolled": true
   },
   "outputs": [
    {
     "data": {
      "text/html": [
       "<div>\n",
       "<style scoped>\n",
       "    .dataframe tbody tr th:only-of-type {\n",
       "        vertical-align: middle;\n",
       "    }\n",
       "\n",
       "    .dataframe tbody tr th {\n",
       "        vertical-align: top;\n",
       "    }\n",
       "\n",
       "    .dataframe thead th {\n",
       "        text-align: right;\n",
       "    }\n",
       "</style>\n",
       "<table border=\"1\" class=\"dataframe\">\n",
       "  <thead>\n",
       "    <tr style=\"text-align: right;\">\n",
       "      <th></th>\n",
       "      <th></th>\n",
       "      <th>max</th>\n",
       "      <th>min</th>\n",
       "      <th>mean</th>\n",
       "      <th>std</th>\n",
       "      <th>median</th>\n",
       "    </tr>\n",
       "    <tr>\n",
       "      <th>國別地區</th>\n",
       "      <th>銷售金額</th>\n",
       "      <th></th>\n",
       "      <th></th>\n",
       "      <th></th>\n",
       "      <th></th>\n",
       "      <th></th>\n",
       "    </tr>\n",
       "  </thead>\n",
       "  <tbody>\n",
       "    <tr>\n",
       "      <th rowspan=\"2\" valign=\"top\">中華民國</th>\n",
       "      <th>&lt;1000K</th>\n",
       "      <td>8</td>\n",
       "      <td>1</td>\n",
       "      <td>2.857143</td>\n",
       "      <td>3.184785</td>\n",
       "      <td>1.0</td>\n",
       "    </tr>\n",
       "    <tr>\n",
       "      <th>&gt;=1000K</th>\n",
       "      <td>102</td>\n",
       "      <td>31</td>\n",
       "      <td>68.250000</td>\n",
       "      <td>29.970819</td>\n",
       "      <td>70.0</td>\n",
       "    </tr>\n",
       "    <tr>\n",
       "      <th>俄羅斯</th>\n",
       "      <th>&lt;1000K</th>\n",
       "      <td>29</td>\n",
       "      <td>29</td>\n",
       "      <td>29.000000</td>\n",
       "      <td>NaN</td>\n",
       "      <td>29.0</td>\n",
       "    </tr>\n",
       "    <tr>\n",
       "      <th>南斯拉夫</th>\n",
       "      <th>&lt;1000K</th>\n",
       "      <td>1</td>\n",
       "      <td>1</td>\n",
       "      <td>1.000000</td>\n",
       "      <td>NaN</td>\n",
       "      <td>1.0</td>\n",
       "    </tr>\n",
       "    <tr>\n",
       "      <th>南韓</th>\n",
       "      <th>&lt;1000K</th>\n",
       "      <td>9</td>\n",
       "      <td>1</td>\n",
       "      <td>3.750000</td>\n",
       "      <td>3.774917</td>\n",
       "      <td>2.5</td>\n",
       "    </tr>\n",
       "    <tr>\n",
       "      <th>印度</th>\n",
       "      <th>&lt;1000K</th>\n",
       "      <td>3</td>\n",
       "      <td>3</td>\n",
       "      <td>3.000000</td>\n",
       "      <td>NaN</td>\n",
       "      <td>3.0</td>\n",
       "    </tr>\n",
       "    <tr>\n",
       "      <th>奧地利</th>\n",
       "      <th>&lt;1000K</th>\n",
       "      <td>1</td>\n",
       "      <td>1</td>\n",
       "      <td>1.000000</td>\n",
       "      <td>NaN</td>\n",
       "      <td>1.0</td>\n",
       "    </tr>\n",
       "    <tr>\n",
       "      <th>愛爾蘭</th>\n",
       "      <th>&lt;1000K</th>\n",
       "      <td>28</td>\n",
       "      <td>28</td>\n",
       "      <td>28.000000</td>\n",
       "      <td>NaN</td>\n",
       "      <td>28.0</td>\n",
       "    </tr>\n",
       "    <tr>\n",
       "      <th rowspan=\"2\" valign=\"top\">日本</th>\n",
       "      <th>&lt;1000K</th>\n",
       "      <td>20</td>\n",
       "      <td>1</td>\n",
       "      <td>9.090909</td>\n",
       "      <td>7.368236</td>\n",
       "      <td>8.0</td>\n",
       "    </tr>\n",
       "    <tr>\n",
       "      <th>&gt;=1000K</th>\n",
       "      <td>91</td>\n",
       "      <td>76</td>\n",
       "      <td>85.666667</td>\n",
       "      <td>8.386497</td>\n",
       "      <td>90.0</td>\n",
       "    </tr>\n",
       "    <tr>\n",
       "      <th>法國</th>\n",
       "      <th>&lt;1000K</th>\n",
       "      <td>15</td>\n",
       "      <td>1</td>\n",
       "      <td>6.125000</td>\n",
       "      <td>5.111262</td>\n",
       "      <td>5.0</td>\n",
       "    </tr>\n",
       "    <tr>\n",
       "      <th>瑞典</th>\n",
       "      <th>&lt;1000K</th>\n",
       "      <td>1</td>\n",
       "      <td>1</td>\n",
       "      <td>1.000000</td>\n",
       "      <td>NaN</td>\n",
       "      <td>1.0</td>\n",
       "    </tr>\n",
       "    <tr>\n",
       "      <th rowspan=\"2\" valign=\"top\">美國</th>\n",
       "      <th>&lt;1000K</th>\n",
       "      <td>91</td>\n",
       "      <td>1</td>\n",
       "      <td>18.178571</td>\n",
       "      <td>21.667613</td>\n",
       "      <td>8.5</td>\n",
       "    </tr>\n",
       "    <tr>\n",
       "      <th>&gt;=1000K</th>\n",
       "      <td>99</td>\n",
       "      <td>55</td>\n",
       "      <td>77.000000</td>\n",
       "      <td>31.112698</td>\n",
       "      <td>77.0</td>\n",
       "    </tr>\n",
       "    <tr>\n",
       "      <th>義大利</th>\n",
       "      <th>&lt;1000K</th>\n",
       "      <td>1</td>\n",
       "      <td>1</td>\n",
       "      <td>1.000000</td>\n",
       "      <td>NaN</td>\n",
       "      <td>1.0</td>\n",
       "    </tr>\n",
       "    <tr>\n",
       "      <th>英國</th>\n",
       "      <th>&lt;1000K</th>\n",
       "      <td>48</td>\n",
       "      <td>1</td>\n",
       "      <td>18.250000</td>\n",
       "      <td>20.516254</td>\n",
       "      <td>12.0</td>\n",
       "    </tr>\n",
       "    <tr>\n",
       "      <th>香港</th>\n",
       "      <th>&lt;1000K</th>\n",
       "      <td>69</td>\n",
       "      <td>1</td>\n",
       "      <td>22.250000</td>\n",
       "      <td>32.180481</td>\n",
       "      <td>9.5</td>\n",
       "    </tr>\n",
       "  </tbody>\n",
       "</table>\n",
       "</div>"
      ],
      "text/plain": [
       "              max  min       mean        std  median\n",
       "國別地區 銷售金額                                           \n",
       "中華民國 <1000K     8    1   2.857143   3.184785     1.0\n",
       "     >=1000K  102   31  68.250000  29.970819    70.0\n",
       "俄羅斯  <1000K    29   29  29.000000        NaN    29.0\n",
       "南斯拉夫 <1000K     1    1   1.000000        NaN     1.0\n",
       "南韓   <1000K     9    1   3.750000   3.774917     2.5\n",
       "印度   <1000K     3    3   3.000000        NaN     3.0\n",
       "奧地利  <1000K     1    1   1.000000        NaN     1.0\n",
       "愛爾蘭  <1000K    28   28  28.000000        NaN    28.0\n",
       "日本   <1000K    20    1   9.090909   7.368236     8.0\n",
       "     >=1000K   91   76  85.666667   8.386497    90.0\n",
       "法國   <1000K    15    1   6.125000   5.111262     5.0\n",
       "瑞典   <1000K     1    1   1.000000        NaN     1.0\n",
       "美國   <1000K    91    1  18.178571  21.667613     8.5\n",
       "     >=1000K   99   55  77.000000  31.112698    77.0\n",
       "義大利  <1000K     1    1   1.000000        NaN     1.0\n",
       "英國   <1000K    48    1  18.250000  20.516254    12.0\n",
       "香港   <1000K    69    1  22.250000  32.180481     9.5"
      ]
     },
     "execution_count": 9,
     "metadata": {},
     "output_type": "execute_result"
    }
   ],
   "source": [
    "#7. 上映院數是否影響銷售金額？\n",
    "count_by_income = film.groupby(['國別地區', '銷售金額'])['上映院數'].agg(['max', 'min', 'mean', 'std', 'median'])\n",
    "\n",
    "count_by_income"
   ]
  },
  {
   "cell_type": "code",
   "execution_count": 10,
   "id": "99af0e3c",
   "metadata": {},
   "outputs": [
    {
     "data": {
      "text/html": [
       "<div>\n",
       "<style scoped>\n",
       "    .dataframe tbody tr th:only-of-type {\n",
       "        vertical-align: middle;\n",
       "    }\n",
       "\n",
       "    .dataframe tbody tr th {\n",
       "        vertical-align: top;\n",
       "    }\n",
       "\n",
       "    .dataframe thead th {\n",
       "        text-align: right;\n",
       "    }\n",
       "</style>\n",
       "<table border=\"1\" class=\"dataframe\">\n",
       "  <thead>\n",
       "    <tr style=\"text-align: right;\">\n",
       "      <th>銷售金額</th>\n",
       "      <th>&lt;1000K</th>\n",
       "      <th>&gt;=1000K</th>\n",
       "    </tr>\n",
       "    <tr>\n",
       "      <th>申請人</th>\n",
       "      <th></th>\n",
       "      <th></th>\n",
       "    </tr>\n",
       "  </thead>\n",
       "  <tbody>\n",
       "    <tr>\n",
       "      <th>中影股份有限公司</th>\n",
       "      <td>1.0</td>\n",
       "      <td>NaN</td>\n",
       "    </tr>\n",
       "    <tr>\n",
       "      <th>仲業股份有限公司</th>\n",
       "      <td>1.0</td>\n",
       "      <td>NaN</td>\n",
       "    </tr>\n",
       "    <tr>\n",
       "      <th>傳影互動股份有限公司</th>\n",
       "      <td>1.0</td>\n",
       "      <td>NaN</td>\n",
       "    </tr>\n",
       "    <tr>\n",
       "      <th>全民大劇團股份有限公司</th>\n",
       "      <td>1.0</td>\n",
       "      <td>NaN</td>\n",
       "    </tr>\n",
       "    <tr>\n",
       "      <th>前景娛樂有限公司</th>\n",
       "      <td>1.0</td>\n",
       "      <td>NaN</td>\n",
       "    </tr>\n",
       "    <tr>\n",
       "      <th>博偉電影股份有限公司</th>\n",
       "      <td>4.0</td>\n",
       "      <td>NaN</td>\n",
       "    </tr>\n",
       "    <tr>\n",
       "      <th>原創娛樂股份有限公司</th>\n",
       "      <td>3.0</td>\n",
       "      <td>NaN</td>\n",
       "    </tr>\n",
       "    <tr>\n",
       "      <th>可樂藝術文創股份有限公司</th>\n",
       "      <td>1.0</td>\n",
       "      <td>NaN</td>\n",
       "    </tr>\n",
       "    <tr>\n",
       "      <th>台灣華特迪士尼股份有限公司</th>\n",
       "      <td>1.0</td>\n",
       "      <td>1.0</td>\n",
       "    </tr>\n",
       "    <tr>\n",
       "      <th>國際電影事業有限公司</th>\n",
       "      <td>NaN</td>\n",
       "      <td>1.0</td>\n",
       "    </tr>\n",
       "    <tr>\n",
       "      <th>好威映象有限公司</th>\n",
       "      <td>2.0</td>\n",
       "      <td>NaN</td>\n",
       "    </tr>\n",
       "    <tr>\n",
       "      <th>威視股份有限公司</th>\n",
       "      <td>2.0</td>\n",
       "      <td>2.0</td>\n",
       "    </tr>\n",
       "    <tr>\n",
       "      <th>希望影視行銷股份有限公司</th>\n",
       "      <td>1.0</td>\n",
       "      <td>NaN</td>\n",
       "    </tr>\n",
       "    <tr>\n",
       "      <th>後場音像紀錄工作室有限公司</th>\n",
       "      <td>1.0</td>\n",
       "      <td>NaN</td>\n",
       "    </tr>\n",
       "    <tr>\n",
       "      <th>捷傑有限公司</th>\n",
       "      <td>1.0</td>\n",
       "      <td>NaN</td>\n",
       "    </tr>\n",
       "    <tr>\n",
       "      <th>春暉映像有限公司</th>\n",
       "      <td>1.0</td>\n",
       "      <td>NaN</td>\n",
       "    </tr>\n",
       "    <tr>\n",
       "      <th>曼迪傳播有限公司</th>\n",
       "      <td>2.0</td>\n",
       "      <td>NaN</td>\n",
       "    </tr>\n",
       "    <tr>\n",
       "      <th>木棉花國際股份有限公司</th>\n",
       "      <td>1.0</td>\n",
       "      <td>1.0</td>\n",
       "    </tr>\n",
       "    <tr>\n",
       "      <th>本萃電影有限公司</th>\n",
       "      <td>1.0</td>\n",
       "      <td>NaN</td>\n",
       "    </tr>\n",
       "    <tr>\n",
       "      <th>東昊影業有限公司</th>\n",
       "      <td>1.0</td>\n",
       "      <td>NaN</td>\n",
       "    </tr>\n",
       "    <tr>\n",
       "      <th>海鵬影業有限公司</th>\n",
       "      <td>2.0</td>\n",
       "      <td>NaN</td>\n",
       "    </tr>\n",
       "    <tr>\n",
       "      <th>牽猴子股份有限公司</th>\n",
       "      <td>1.0</td>\n",
       "      <td>1.0</td>\n",
       "    </tr>\n",
       "    <tr>\n",
       "      <th>美商台灣索尼影業發行股份有限公司台灣分公司</th>\n",
       "      <td>5.0</td>\n",
       "      <td>NaN</td>\n",
       "    </tr>\n",
       "    <tr>\n",
       "      <th>美商美國派拉蒙影片股份有限公司台灣分公司</th>\n",
       "      <td>1.0</td>\n",
       "      <td>NaN</td>\n",
       "    </tr>\n",
       "    <tr>\n",
       "      <th>美商美國環球影片股份有限公司台灣分公司</th>\n",
       "      <td>3.0</td>\n",
       "      <td>NaN</td>\n",
       "    </tr>\n",
       "    <tr>\n",
       "      <th>美商華納兄弟（遠東）股份有限公司台灣分公司</th>\n",
       "      <td>3.0</td>\n",
       "      <td>1.0</td>\n",
       "    </tr>\n",
       "    <tr>\n",
       "      <th>聯影企業股份有限公司</th>\n",
       "      <td>1.0</td>\n",
       "      <td>NaN</td>\n",
       "    </tr>\n",
       "    <tr>\n",
       "      <th>英屬蓋曼群島商威望國際娛樂股份有限公司台灣分公司</th>\n",
       "      <td>2.0</td>\n",
       "      <td>NaN</td>\n",
       "    </tr>\n",
       "    <tr>\n",
       "      <th>華映國際文創股份有限公司</th>\n",
       "      <td>2.0</td>\n",
       "      <td>NaN</td>\n",
       "    </tr>\n",
       "    <tr>\n",
       "      <th>華映娛樂股份有限公司</th>\n",
       "      <td>2.0</td>\n",
       "      <td>NaN</td>\n",
       "    </tr>\n",
       "    <tr>\n",
       "      <th>薩摩亞商雄讚股份有限公司台灣分公司</th>\n",
       "      <td>2.0</td>\n",
       "      <td>1.0</td>\n",
       "    </tr>\n",
       "    <tr>\n",
       "      <th>豪華大戲院股份有限公司</th>\n",
       "      <td>2.0</td>\n",
       "      <td>NaN</td>\n",
       "    </tr>\n",
       "    <tr>\n",
       "      <th>車庫娛樂股份有限公司</th>\n",
       "      <td>7.0</td>\n",
       "      <td>1.0</td>\n",
       "    </tr>\n",
       "    <tr>\n",
       "      <th>造次文化有限公司</th>\n",
       "      <td>1.0</td>\n",
       "      <td>NaN</td>\n",
       "    </tr>\n",
       "    <tr>\n",
       "      <th>采昌國際多媒體股份有限公司</th>\n",
       "      <td>5.0</td>\n",
       "      <td>NaN</td>\n",
       "    </tr>\n",
       "    <tr>\n",
       "      <th>香港商甲上娛樂有限公司台灣分公司</th>\n",
       "      <td>6.0</td>\n",
       "      <td>NaN</td>\n",
       "    </tr>\n",
       "    <tr>\n",
       "      <th>鴻聯國際開發股份有限公司</th>\n",
       "      <td>1.0</td>\n",
       "      <td>NaN</td>\n",
       "    </tr>\n",
       "  </tbody>\n",
       "</table>\n",
       "</div>"
      ],
      "text/plain": [
       "銷售金額                      <1000K  >=1000K\n",
       "申請人                                      \n",
       "中影股份有限公司                     1.0      NaN\n",
       "仲業股份有限公司                     1.0      NaN\n",
       "傳影互動股份有限公司                   1.0      NaN\n",
       "全民大劇團股份有限公司                  1.0      NaN\n",
       "前景娛樂有限公司                     1.0      NaN\n",
       "博偉電影股份有限公司                   4.0      NaN\n",
       "原創娛樂股份有限公司                   3.0      NaN\n",
       "可樂藝術文創股份有限公司                 1.0      NaN\n",
       "台灣華特迪士尼股份有限公司                1.0      1.0\n",
       "國際電影事業有限公司                   NaN      1.0\n",
       "好威映象有限公司                     2.0      NaN\n",
       "威視股份有限公司                     2.0      2.0\n",
       "希望影視行銷股份有限公司                 1.0      NaN\n",
       "後場音像紀錄工作室有限公司                1.0      NaN\n",
       "捷傑有限公司                       1.0      NaN\n",
       "春暉映像有限公司                     1.0      NaN\n",
       "曼迪傳播有限公司                     2.0      NaN\n",
       "木棉花國際股份有限公司                  1.0      1.0\n",
       "本萃電影有限公司                     1.0      NaN\n",
       "東昊影業有限公司                     1.0      NaN\n",
       "海鵬影業有限公司                     2.0      NaN\n",
       "牽猴子股份有限公司                    1.0      1.0\n",
       "美商台灣索尼影業發行股份有限公司台灣分公司        5.0      NaN\n",
       "美商美國派拉蒙影片股份有限公司台灣分公司         1.0      NaN\n",
       "美商美國環球影片股份有限公司台灣分公司          3.0      NaN\n",
       "美商華納兄弟（遠東）股份有限公司台灣分公司        3.0      1.0\n",
       "聯影企業股份有限公司                   1.0      NaN\n",
       "英屬蓋曼群島商威望國際娛樂股份有限公司台灣分公司     2.0      NaN\n",
       "華映國際文創股份有限公司                 2.0      NaN\n",
       "華映娛樂股份有限公司                   2.0      NaN\n",
       "薩摩亞商雄讚股份有限公司台灣分公司            2.0      1.0\n",
       "豪華大戲院股份有限公司                  2.0      NaN\n",
       "車庫娛樂股份有限公司                   7.0      1.0\n",
       "造次文化有限公司                     1.0      NaN\n",
       "采昌國際多媒體股份有限公司                5.0      NaN\n",
       "香港商甲上娛樂有限公司台灣分公司             6.0      NaN\n",
       "鴻聯國際開發股份有限公司                 1.0      NaN"
      ]
     },
     "execution_count": 10,
     "metadata": {},
     "output_type": "execute_result"
    }
   ],
   "source": [
    "#8. 將電影的申請人和銷售金額做比較\n",
    "App_income = film.groupby(['申請人', '銷售金額'])['國別地區'].count().unstack()\n",
    "App_income"
   ]
  },
  {
   "cell_type": "code",
   "execution_count": 11,
   "id": "a7fe6a0f",
   "metadata": {},
   "outputs": [
    {
     "data": {
      "text/html": [
       "<div>\n",
       "<style scoped>\n",
       "    .dataframe tbody tr th:only-of-type {\n",
       "        vertical-align: middle;\n",
       "    }\n",
       "\n",
       "    .dataframe tbody tr th {\n",
       "        vertical-align: top;\n",
       "    }\n",
       "\n",
       "    .dataframe thead th {\n",
       "        text-align: right;\n",
       "    }\n",
       "</style>\n",
       "<table border=\"1\" class=\"dataframe\">\n",
       "  <thead>\n",
       "    <tr style=\"text-align: right;\">\n",
       "      <th>銷售金額</th>\n",
       "      <th>&lt;1000K</th>\n",
       "      <th>&gt;=1000K</th>\n",
       "    </tr>\n",
       "    <tr>\n",
       "      <th>申請人</th>\n",
       "      <th></th>\n",
       "      <th></th>\n",
       "    </tr>\n",
       "  </thead>\n",
       "  <tbody>\n",
       "    <tr>\n",
       "      <th>中影股份有限公司</th>\n",
       "      <td>1.0</td>\n",
       "      <td>NaN</td>\n",
       "    </tr>\n",
       "    <tr>\n",
       "      <th>仲業股份有限公司</th>\n",
       "      <td>1.0</td>\n",
       "      <td>NaN</td>\n",
       "    </tr>\n",
       "    <tr>\n",
       "      <th>傳影互動股份有限公司</th>\n",
       "      <td>1.0</td>\n",
       "      <td>NaN</td>\n",
       "    </tr>\n",
       "    <tr>\n",
       "      <th>全民大劇團股份有限公司</th>\n",
       "      <td>1.0</td>\n",
       "      <td>NaN</td>\n",
       "    </tr>\n",
       "    <tr>\n",
       "      <th>前景娛樂有限公司</th>\n",
       "      <td>1.0</td>\n",
       "      <td>NaN</td>\n",
       "    </tr>\n",
       "    <tr>\n",
       "      <th>博偉電影股份有限公司</th>\n",
       "      <td>4.0</td>\n",
       "      <td>NaN</td>\n",
       "    </tr>\n",
       "    <tr>\n",
       "      <th>原創娛樂股份有限公司</th>\n",
       "      <td>3.0</td>\n",
       "      <td>NaN</td>\n",
       "    </tr>\n",
       "    <tr>\n",
       "      <th>可樂藝術文創股份有限公司</th>\n",
       "      <td>1.0</td>\n",
       "      <td>NaN</td>\n",
       "    </tr>\n",
       "    <tr>\n",
       "      <th>台灣華特迪士尼股份有限公司</th>\n",
       "      <td>1.0</td>\n",
       "      <td>1.0</td>\n",
       "    </tr>\n",
       "    <tr>\n",
       "      <th>國際電影事業有限公司</th>\n",
       "      <td>NaN</td>\n",
       "      <td>1.0</td>\n",
       "    </tr>\n",
       "    <tr>\n",
       "      <th>好威映象有限公司</th>\n",
       "      <td>2.0</td>\n",
       "      <td>NaN</td>\n",
       "    </tr>\n",
       "    <tr>\n",
       "      <th>威視股份有限公司</th>\n",
       "      <td>2.0</td>\n",
       "      <td>2.0</td>\n",
       "    </tr>\n",
       "    <tr>\n",
       "      <th>希望影視行銷股份有限公司</th>\n",
       "      <td>1.0</td>\n",
       "      <td>NaN</td>\n",
       "    </tr>\n",
       "    <tr>\n",
       "      <th>後場音像紀錄工作室有限公司</th>\n",
       "      <td>1.0</td>\n",
       "      <td>NaN</td>\n",
       "    </tr>\n",
       "    <tr>\n",
       "      <th>捷傑有限公司</th>\n",
       "      <td>1.0</td>\n",
       "      <td>NaN</td>\n",
       "    </tr>\n",
       "    <tr>\n",
       "      <th>春暉映像有限公司</th>\n",
       "      <td>1.0</td>\n",
       "      <td>NaN</td>\n",
       "    </tr>\n",
       "    <tr>\n",
       "      <th>曼迪傳播有限公司</th>\n",
       "      <td>2.0</td>\n",
       "      <td>NaN</td>\n",
       "    </tr>\n",
       "    <tr>\n",
       "      <th>木棉花國際股份有限公司</th>\n",
       "      <td>1.0</td>\n",
       "      <td>1.0</td>\n",
       "    </tr>\n",
       "    <tr>\n",
       "      <th>本萃電影有限公司</th>\n",
       "      <td>1.0</td>\n",
       "      <td>NaN</td>\n",
       "    </tr>\n",
       "    <tr>\n",
       "      <th>東昊影業有限公司</th>\n",
       "      <td>1.0</td>\n",
       "      <td>NaN</td>\n",
       "    </tr>\n",
       "    <tr>\n",
       "      <th>海鵬影業有限公司</th>\n",
       "      <td>2.0</td>\n",
       "      <td>NaN</td>\n",
       "    </tr>\n",
       "    <tr>\n",
       "      <th>牽猴子股份有限公司</th>\n",
       "      <td>1.0</td>\n",
       "      <td>1.0</td>\n",
       "    </tr>\n",
       "    <tr>\n",
       "      <th>美商台灣索尼影業發行股份有限公司台灣分公司</th>\n",
       "      <td>5.0</td>\n",
       "      <td>NaN</td>\n",
       "    </tr>\n",
       "    <tr>\n",
       "      <th>美商美國派拉蒙影片股份有限公司台灣分公司</th>\n",
       "      <td>1.0</td>\n",
       "      <td>NaN</td>\n",
       "    </tr>\n",
       "    <tr>\n",
       "      <th>美商美國環球影片股份有限公司台灣分公司</th>\n",
       "      <td>3.0</td>\n",
       "      <td>NaN</td>\n",
       "    </tr>\n",
       "    <tr>\n",
       "      <th>美商華納兄弟（遠東）股份有限公司台灣分公司</th>\n",
       "      <td>3.0</td>\n",
       "      <td>1.0</td>\n",
       "    </tr>\n",
       "    <tr>\n",
       "      <th>聯影企業股份有限公司</th>\n",
       "      <td>1.0</td>\n",
       "      <td>NaN</td>\n",
       "    </tr>\n",
       "    <tr>\n",
       "      <th>英屬蓋曼群島商威望國際娛樂股份有限公司台灣分公司</th>\n",
       "      <td>2.0</td>\n",
       "      <td>NaN</td>\n",
       "    </tr>\n",
       "    <tr>\n",
       "      <th>華映國際文創股份有限公司</th>\n",
       "      <td>2.0</td>\n",
       "      <td>NaN</td>\n",
       "    </tr>\n",
       "    <tr>\n",
       "      <th>華映娛樂股份有限公司</th>\n",
       "      <td>2.0</td>\n",
       "      <td>NaN</td>\n",
       "    </tr>\n",
       "    <tr>\n",
       "      <th>薩摩亞商雄讚股份有限公司台灣分公司</th>\n",
       "      <td>2.0</td>\n",
       "      <td>1.0</td>\n",
       "    </tr>\n",
       "    <tr>\n",
       "      <th>豪華大戲院股份有限公司</th>\n",
       "      <td>2.0</td>\n",
       "      <td>NaN</td>\n",
       "    </tr>\n",
       "    <tr>\n",
       "      <th>車庫娛樂股份有限公司</th>\n",
       "      <td>7.0</td>\n",
       "      <td>1.0</td>\n",
       "    </tr>\n",
       "    <tr>\n",
       "      <th>造次文化有限公司</th>\n",
       "      <td>1.0</td>\n",
       "      <td>NaN</td>\n",
       "    </tr>\n",
       "    <tr>\n",
       "      <th>采昌國際多媒體股份有限公司</th>\n",
       "      <td>5.0</td>\n",
       "      <td>NaN</td>\n",
       "    </tr>\n",
       "    <tr>\n",
       "      <th>香港商甲上娛樂有限公司台灣分公司</th>\n",
       "      <td>6.0</td>\n",
       "      <td>NaN</td>\n",
       "    </tr>\n",
       "    <tr>\n",
       "      <th>鴻聯國際開發股份有限公司</th>\n",
       "      <td>1.0</td>\n",
       "      <td>NaN</td>\n",
       "    </tr>\n",
       "  </tbody>\n",
       "</table>\n",
       "</div>"
      ],
      "text/plain": [
       "銷售金額                      <1000K  >=1000K\n",
       "申請人                                      \n",
       "中影股份有限公司                     1.0      NaN\n",
       "仲業股份有限公司                     1.0      NaN\n",
       "傳影互動股份有限公司                   1.0      NaN\n",
       "全民大劇團股份有限公司                  1.0      NaN\n",
       "前景娛樂有限公司                     1.0      NaN\n",
       "博偉電影股份有限公司                   4.0      NaN\n",
       "原創娛樂股份有限公司                   3.0      NaN\n",
       "可樂藝術文創股份有限公司                 1.0      NaN\n",
       "台灣華特迪士尼股份有限公司                1.0      1.0\n",
       "國際電影事業有限公司                   NaN      1.0\n",
       "好威映象有限公司                     2.0      NaN\n",
       "威視股份有限公司                     2.0      2.0\n",
       "希望影視行銷股份有限公司                 1.0      NaN\n",
       "後場音像紀錄工作室有限公司                1.0      NaN\n",
       "捷傑有限公司                       1.0      NaN\n",
       "春暉映像有限公司                     1.0      NaN\n",
       "曼迪傳播有限公司                     2.0      NaN\n",
       "木棉花國際股份有限公司                  1.0      1.0\n",
       "本萃電影有限公司                     1.0      NaN\n",
       "東昊影業有限公司                     1.0      NaN\n",
       "海鵬影業有限公司                     2.0      NaN\n",
       "牽猴子股份有限公司                    1.0      1.0\n",
       "美商台灣索尼影業發行股份有限公司台灣分公司        5.0      NaN\n",
       "美商美國派拉蒙影片股份有限公司台灣分公司         1.0      NaN\n",
       "美商美國環球影片股份有限公司台灣分公司          3.0      NaN\n",
       "美商華納兄弟（遠東）股份有限公司台灣分公司        3.0      1.0\n",
       "聯影企業股份有限公司                   1.0      NaN\n",
       "英屬蓋曼群島商威望國際娛樂股份有限公司台灣分公司     2.0      NaN\n",
       "華映國際文創股份有限公司                 2.0      NaN\n",
       "華映娛樂股份有限公司                   2.0      NaN\n",
       "薩摩亞商雄讚股份有限公司台灣分公司            2.0      1.0\n",
       "豪華大戲院股份有限公司                  2.0      NaN\n",
       "車庫娛樂股份有限公司                   7.0      1.0\n",
       "造次文化有限公司                     1.0      NaN\n",
       "采昌國際多媒體股份有限公司                5.0      NaN\n",
       "香港商甲上娛樂有限公司台灣分公司             6.0      NaN\n",
       "鴻聯國際開發股份有限公司                 1.0      NaN"
      ]
     },
     "execution_count": 11,
     "metadata": {},
     "output_type": "execute_result"
    }
   ],
   "source": [
    "#9. 計算每個銷售金額中>=1000K和<1000K的申請人\n",
    "income_App = film.groupby(['申請人', '銷售金額'])['上映院數'].count().unstack()\n",
    "income_App"
   ]
  },
  {
   "cell_type": "code",
   "execution_count": 12,
   "id": "2141efe3",
   "metadata": {},
   "outputs": [
    {
     "data": {
      "text/html": [
       "<div>\n",
       "<style scoped>\n",
       "    .dataframe tbody tr th:only-of-type {\n",
       "        vertical-align: middle;\n",
       "    }\n",
       "\n",
       "    .dataframe tbody tr th {\n",
       "        vertical-align: top;\n",
       "    }\n",
       "\n",
       "    .dataframe thead th {\n",
       "        text-align: right;\n",
       "    }\n",
       "</style>\n",
       "<table border=\"1\" class=\"dataframe\">\n",
       "  <thead>\n",
       "    <tr style=\"text-align: right;\">\n",
       "      <th>銷售金額</th>\n",
       "      <th>&lt;1000K</th>\n",
       "      <th>&gt;=1000K</th>\n",
       "    </tr>\n",
       "    <tr>\n",
       "      <th>申請人</th>\n",
       "      <th></th>\n",
       "      <th></th>\n",
       "    </tr>\n",
       "  </thead>\n",
       "  <tbody>\n",
       "    <tr>\n",
       "      <th>中影股份有限公司</th>\n",
       "      <td>1.0</td>\n",
       "      <td>NaN</td>\n",
       "    </tr>\n",
       "    <tr>\n",
       "      <th>仲業股份有限公司</th>\n",
       "      <td>1.0</td>\n",
       "      <td>NaN</td>\n",
       "    </tr>\n",
       "    <tr>\n",
       "      <th>傳影互動股份有限公司</th>\n",
       "      <td>1.0</td>\n",
       "      <td>NaN</td>\n",
       "    </tr>\n",
       "    <tr>\n",
       "      <th>全民大劇團股份有限公司</th>\n",
       "      <td>1.0</td>\n",
       "      <td>NaN</td>\n",
       "    </tr>\n",
       "    <tr>\n",
       "      <th>前景娛樂有限公司</th>\n",
       "      <td>1.0</td>\n",
       "      <td>NaN</td>\n",
       "    </tr>\n",
       "    <tr>\n",
       "      <th>博偉電影股份有限公司</th>\n",
       "      <td>4.0</td>\n",
       "      <td>NaN</td>\n",
       "    </tr>\n",
       "    <tr>\n",
       "      <th>原創娛樂股份有限公司</th>\n",
       "      <td>3.0</td>\n",
       "      <td>NaN</td>\n",
       "    </tr>\n",
       "    <tr>\n",
       "      <th>可樂藝術文創股份有限公司</th>\n",
       "      <td>1.0</td>\n",
       "      <td>NaN</td>\n",
       "    </tr>\n",
       "    <tr>\n",
       "      <th>台灣華特迪士尼股份有限公司</th>\n",
       "      <td>1.0</td>\n",
       "      <td>1.0</td>\n",
       "    </tr>\n",
       "    <tr>\n",
       "      <th>國際電影事業有限公司</th>\n",
       "      <td>NaN</td>\n",
       "      <td>1.0</td>\n",
       "    </tr>\n",
       "    <tr>\n",
       "      <th>好威映象有限公司</th>\n",
       "      <td>2.0</td>\n",
       "      <td>NaN</td>\n",
       "    </tr>\n",
       "    <tr>\n",
       "      <th>威視股份有限公司</th>\n",
       "      <td>2.0</td>\n",
       "      <td>2.0</td>\n",
       "    </tr>\n",
       "    <tr>\n",
       "      <th>希望影視行銷股份有限公司</th>\n",
       "      <td>1.0</td>\n",
       "      <td>NaN</td>\n",
       "    </tr>\n",
       "    <tr>\n",
       "      <th>後場音像紀錄工作室有限公司</th>\n",
       "      <td>1.0</td>\n",
       "      <td>NaN</td>\n",
       "    </tr>\n",
       "    <tr>\n",
       "      <th>捷傑有限公司</th>\n",
       "      <td>1.0</td>\n",
       "      <td>NaN</td>\n",
       "    </tr>\n",
       "    <tr>\n",
       "      <th>春暉映像有限公司</th>\n",
       "      <td>1.0</td>\n",
       "      <td>NaN</td>\n",
       "    </tr>\n",
       "    <tr>\n",
       "      <th>曼迪傳播有限公司</th>\n",
       "      <td>2.0</td>\n",
       "      <td>NaN</td>\n",
       "    </tr>\n",
       "    <tr>\n",
       "      <th>木棉花國際股份有限公司</th>\n",
       "      <td>1.0</td>\n",
       "      <td>1.0</td>\n",
       "    </tr>\n",
       "    <tr>\n",
       "      <th>本萃電影有限公司</th>\n",
       "      <td>1.0</td>\n",
       "      <td>NaN</td>\n",
       "    </tr>\n",
       "    <tr>\n",
       "      <th>東昊影業有限公司</th>\n",
       "      <td>1.0</td>\n",
       "      <td>NaN</td>\n",
       "    </tr>\n",
       "    <tr>\n",
       "      <th>海鵬影業有限公司</th>\n",
       "      <td>2.0</td>\n",
       "      <td>NaN</td>\n",
       "    </tr>\n",
       "    <tr>\n",
       "      <th>牽猴子股份有限公司</th>\n",
       "      <td>1.0</td>\n",
       "      <td>1.0</td>\n",
       "    </tr>\n",
       "    <tr>\n",
       "      <th>美商台灣索尼影業發行股份有限公司台灣分公司</th>\n",
       "      <td>5.0</td>\n",
       "      <td>NaN</td>\n",
       "    </tr>\n",
       "    <tr>\n",
       "      <th>美商美國派拉蒙影片股份有限公司台灣分公司</th>\n",
       "      <td>1.0</td>\n",
       "      <td>NaN</td>\n",
       "    </tr>\n",
       "    <tr>\n",
       "      <th>美商美國環球影片股份有限公司台灣分公司</th>\n",
       "      <td>3.0</td>\n",
       "      <td>NaN</td>\n",
       "    </tr>\n",
       "    <tr>\n",
       "      <th>美商華納兄弟（遠東）股份有限公司台灣分公司</th>\n",
       "      <td>3.0</td>\n",
       "      <td>1.0</td>\n",
       "    </tr>\n",
       "    <tr>\n",
       "      <th>聯影企業股份有限公司</th>\n",
       "      <td>1.0</td>\n",
       "      <td>NaN</td>\n",
       "    </tr>\n",
       "    <tr>\n",
       "      <th>英屬蓋曼群島商威望國際娛樂股份有限公司台灣分公司</th>\n",
       "      <td>2.0</td>\n",
       "      <td>NaN</td>\n",
       "    </tr>\n",
       "    <tr>\n",
       "      <th>華映國際文創股份有限公司</th>\n",
       "      <td>2.0</td>\n",
       "      <td>NaN</td>\n",
       "    </tr>\n",
       "    <tr>\n",
       "      <th>華映娛樂股份有限公司</th>\n",
       "      <td>2.0</td>\n",
       "      <td>NaN</td>\n",
       "    </tr>\n",
       "    <tr>\n",
       "      <th>薩摩亞商雄讚股份有限公司台灣分公司</th>\n",
       "      <td>2.0</td>\n",
       "      <td>1.0</td>\n",
       "    </tr>\n",
       "    <tr>\n",
       "      <th>豪華大戲院股份有限公司</th>\n",
       "      <td>2.0</td>\n",
       "      <td>NaN</td>\n",
       "    </tr>\n",
       "    <tr>\n",
       "      <th>車庫娛樂股份有限公司</th>\n",
       "      <td>7.0</td>\n",
       "      <td>1.0</td>\n",
       "    </tr>\n",
       "    <tr>\n",
       "      <th>造次文化有限公司</th>\n",
       "      <td>1.0</td>\n",
       "      <td>NaN</td>\n",
       "    </tr>\n",
       "    <tr>\n",
       "      <th>采昌國際多媒體股份有限公司</th>\n",
       "      <td>5.0</td>\n",
       "      <td>NaN</td>\n",
       "    </tr>\n",
       "    <tr>\n",
       "      <th>香港商甲上娛樂有限公司台灣分公司</th>\n",
       "      <td>6.0</td>\n",
       "      <td>NaN</td>\n",
       "    </tr>\n",
       "    <tr>\n",
       "      <th>鴻聯國際開發股份有限公司</th>\n",
       "      <td>1.0</td>\n",
       "      <td>NaN</td>\n",
       "    </tr>\n",
       "  </tbody>\n",
       "</table>\n",
       "</div>"
      ],
      "text/plain": [
       "銷售金額                      <1000K  >=1000K\n",
       "申請人                                      \n",
       "中影股份有限公司                     1.0      NaN\n",
       "仲業股份有限公司                     1.0      NaN\n",
       "傳影互動股份有限公司                   1.0      NaN\n",
       "全民大劇團股份有限公司                  1.0      NaN\n",
       "前景娛樂有限公司                     1.0      NaN\n",
       "博偉電影股份有限公司                   4.0      NaN\n",
       "原創娛樂股份有限公司                   3.0      NaN\n",
       "可樂藝術文創股份有限公司                 1.0      NaN\n",
       "台灣華特迪士尼股份有限公司                1.0      1.0\n",
       "國際電影事業有限公司                   NaN      1.0\n",
       "好威映象有限公司                     2.0      NaN\n",
       "威視股份有限公司                     2.0      2.0\n",
       "希望影視行銷股份有限公司                 1.0      NaN\n",
       "後場音像紀錄工作室有限公司                1.0      NaN\n",
       "捷傑有限公司                       1.0      NaN\n",
       "春暉映像有限公司                     1.0      NaN\n",
       "曼迪傳播有限公司                     2.0      NaN\n",
       "木棉花國際股份有限公司                  1.0      1.0\n",
       "本萃電影有限公司                     1.0      NaN\n",
       "東昊影業有限公司                     1.0      NaN\n",
       "海鵬影業有限公司                     2.0      NaN\n",
       "牽猴子股份有限公司                    1.0      1.0\n",
       "美商台灣索尼影業發行股份有限公司台灣分公司        5.0      NaN\n",
       "美商美國派拉蒙影片股份有限公司台灣分公司         1.0      NaN\n",
       "美商美國環球影片股份有限公司台灣分公司          3.0      NaN\n",
       "美商華納兄弟（遠東）股份有限公司台灣分公司        3.0      1.0\n",
       "聯影企業股份有限公司                   1.0      NaN\n",
       "英屬蓋曼群島商威望國際娛樂股份有限公司台灣分公司     2.0      NaN\n",
       "華映國際文創股份有限公司                 2.0      NaN\n",
       "華映娛樂股份有限公司                   2.0      NaN\n",
       "薩摩亞商雄讚股份有限公司台灣分公司            2.0      1.0\n",
       "豪華大戲院股份有限公司                  2.0      NaN\n",
       "車庫娛樂股份有限公司                   7.0      1.0\n",
       "造次文化有限公司                     1.0      NaN\n",
       "采昌國際多媒體股份有限公司                5.0      NaN\n",
       "香港商甲上娛樂有限公司台灣分公司             6.0      NaN\n",
       "鴻聯國際開發股份有限公司                 1.0      NaN"
      ]
     },
     "execution_count": 12,
     "metadata": {},
     "output_type": "execute_result"
    }
   ],
   "source": [
    "#10. 計算每個銷售金額中>=1000K和<1000K的申請人\n",
    "Appi_income = film.groupby(['申請人', '銷售金額'])['國別地區'].count().unstack()\n",
    "Appi_income"
   ]
  },
  {
   "cell_type": "code",
   "execution_count": null,
   "id": "db565bf9",
   "metadata": {},
   "outputs": [],
   "source": []
  },
  {
   "cell_type": "code",
   "execution_count": null,
   "id": "7748f925",
   "metadata": {},
   "outputs": [],
   "source": []
  }
 ],
 "metadata": {
  "kernelspec": {
   "display_name": "Python 3 (ipykernel)",
   "language": "python",
   "name": "python3"
  },
  "language_info": {
   "codemirror_mode": {
    "name": "ipython",
    "version": 3
   },
   "file_extension": ".py",
   "mimetype": "text/x-python",
   "name": "python",
   "nbconvert_exporter": "python",
   "pygments_lexer": "ipython3",
   "version": "3.9.13"
  }
 },
 "nbformat": 4,
 "nbformat_minor": 5
}
