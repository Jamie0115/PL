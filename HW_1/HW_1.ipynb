{
 "cells": [
  {
   "cell_type": "code",
   "execution_count": 1,
   "id": "67fcc849",
   "metadata": {},
   "outputs": [],
   "source": [
    "import pandas as pd\n",
    "\n",
    "drama1 = pd.read_csv(\"drama1.csv\")\n",
    "drama2 = pd.read_csv(\"drama2.csv\")"
   ]
  },
  {
   "cell_type": "code",
   "execution_count": 2,
   "id": "22a6986d",
   "metadata": {},
   "outputs": [
    {
     "data": {
      "text/html": [
       "<div>\n",
       "<style scoped>\n",
       "    .dataframe tbody tr th:only-of-type {\n",
       "        vertical-align: middle;\n",
       "    }\n",
       "\n",
       "    .dataframe tbody tr th {\n",
       "        vertical-align: top;\n",
       "    }\n",
       "\n",
       "    .dataframe thead th {\n",
       "        text-align: right;\n",
       "    }\n",
       "</style>\n",
       "<table border=\"1\" class=\"dataframe\">\n",
       "  <thead>\n",
       "    <tr style=\"text-align: right;\">\n",
       "      <th></th>\n",
       "      <th>排名</th>\n",
       "      <th>戲劇名稱</th>\n",
       "      <th>Netflix</th>\n",
       "      <th>2022 TOP 10 戲劇</th>\n",
       "    </tr>\n",
       "  </thead>\n",
       "  <tbody>\n",
       "    <tr>\n",
       "      <th>0</th>\n",
       "      <td>1</td>\n",
       "      <td>非常律師禹英禑</td>\n",
       "      <td>NaN</td>\n",
       "      <td>NaN</td>\n",
       "    </tr>\n",
       "    <tr>\n",
       "      <th>1</th>\n",
       "      <td>2</td>\n",
       "      <td>來吧！營業中</td>\n",
       "      <td>NaN</td>\n",
       "      <td>NaN</td>\n",
       "    </tr>\n",
       "    <tr>\n",
       "      <th>2</th>\n",
       "      <td>3</td>\n",
       "      <td>還魂</td>\n",
       "      <td>NaN</td>\n",
       "      <td>NaN</td>\n",
       "    </tr>\n",
       "    <tr>\n",
       "      <th>3</th>\n",
       "      <td>4</td>\n",
       "      <td>我們的藍調時光</td>\n",
       "      <td>NaN</td>\n",
       "      <td>NaN</td>\n",
       "    </tr>\n",
       "    <tr>\n",
       "      <th>4</th>\n",
       "      <td>5</td>\n",
       "      <td>二十五，二十一</td>\n",
       "      <td>NaN</td>\n",
       "      <td>NaN</td>\n",
       "    </tr>\n",
       "    <tr>\n",
       "      <th>5</th>\n",
       "      <td>6</td>\n",
       "      <td>社內相親</td>\n",
       "      <td>NaN</td>\n",
       "      <td>NaN</td>\n",
       "    </tr>\n",
       "    <tr>\n",
       "      <th>6</th>\n",
       "      <td>7</td>\n",
       "      <td>蒼蘭訣</td>\n",
       "      <td>NaN</td>\n",
       "      <td>NaN</td>\n",
       "    </tr>\n",
       "    <tr>\n",
       "      <th>7</th>\n",
       "      <td>8</td>\n",
       "      <td>且試天下</td>\n",
       "      <td>NaN</td>\n",
       "      <td>NaN</td>\n",
       "    </tr>\n",
       "    <tr>\n",
       "      <th>8</th>\n",
       "      <td>9</td>\n",
       "      <td>星漢燦爛·月升滄海</td>\n",
       "      <td>NaN</td>\n",
       "      <td>NaN</td>\n",
       "    </tr>\n",
       "    <tr>\n",
       "      <th>9</th>\n",
       "      <td>10</td>\n",
       "      <td>華燈初上</td>\n",
       "      <td>NaN</td>\n",
       "      <td>NaN</td>\n",
       "    </tr>\n",
       "  </tbody>\n",
       "</table>\n",
       "</div>"
      ],
      "text/plain": [
       "   排名       戲劇名稱  Netflix  2022 TOP 10 戲劇\n",
       "0   1    非常律師禹英禑      NaN             NaN\n",
       "1   2     來吧！營業中      NaN             NaN\n",
       "2   3         還魂      NaN             NaN\n",
       "3   4    我們的藍調時光      NaN             NaN\n",
       "4   5    二十五，二十一      NaN             NaN\n",
       "5   6       社內相親      NaN             NaN\n",
       "6   7        蒼蘭訣      NaN             NaN\n",
       "7   8       且試天下      NaN             NaN\n",
       "8   9  星漢燦爛·月升滄海      NaN             NaN\n",
       "9  10       華燈初上      NaN             NaN"
      ]
     },
     "execution_count": 2,
     "metadata": {},
     "output_type": "execute_result"
    }
   ],
   "source": [
    "drama1"
   ]
  },
  {
   "cell_type": "code",
   "execution_count": 3,
   "id": "136c1319",
   "metadata": {},
   "outputs": [
    {
     "data": {
      "text/html": [
       "<div>\n",
       "<style scoped>\n",
       "    .dataframe tbody tr th:only-of-type {\n",
       "        vertical-align: middle;\n",
       "    }\n",
       "\n",
       "    .dataframe tbody tr th {\n",
       "        vertical-align: top;\n",
       "    }\n",
       "\n",
       "    .dataframe thead th {\n",
       "        text-align: right;\n",
       "    }\n",
       "</style>\n",
       "<table border=\"1\" class=\"dataframe\">\n",
       "  <thead>\n",
       "    <tr style=\"text-align: right;\">\n",
       "      <th></th>\n",
       "      <th>排名</th>\n",
       "      <th>戲劇名稱</th>\n",
       "      <th>disney+</th>\n",
       "      <th>2022 TOP 10 戲劇</th>\n",
       "    </tr>\n",
       "  </thead>\n",
       "  <tbody>\n",
       "    <tr>\n",
       "      <th>0</th>\n",
       "      <td>1</td>\n",
       "      <td>陰屍路</td>\n",
       "      <td>NaN</td>\n",
       "      <td>NaN</td>\n",
       "    </tr>\n",
       "    <tr>\n",
       "      <th>1</th>\n",
       "      <td>2</td>\n",
       "      <td>如懿傳</td>\n",
       "      <td>NaN</td>\n",
       "      <td>NaN</td>\n",
       "    </tr>\n",
       "    <tr>\n",
       "      <th>2</th>\n",
       "      <td>3</td>\n",
       "      <td>黑話律師</td>\n",
       "      <td>NaN</td>\n",
       "      <td>NaN</td>\n",
       "    </tr>\n",
       "    <tr>\n",
       "      <th>3</th>\n",
       "      <td>4</td>\n",
       "      <td>醫法刑事</td>\n",
       "      <td>NaN</td>\n",
       "      <td>NaN</td>\n",
       "    </tr>\n",
       "    <tr>\n",
       "      <th>4</th>\n",
       "      <td>5</td>\n",
       "      <td>千元律師</td>\n",
       "      <td>NaN</td>\n",
       "      <td>NaN</td>\n",
       "    </tr>\n",
       "    <tr>\n",
       "      <th>5</th>\n",
       "      <td>6</td>\n",
       "      <td>摩登家庭</td>\n",
       "      <td>NaN</td>\n",
       "      <td>NaN</td>\n",
       "    </tr>\n",
       "    <tr>\n",
       "      <th>6</th>\n",
       "      <td>7</td>\n",
       "      <td>正義的算法</td>\n",
       "      <td>NaN</td>\n",
       "      <td>NaN</td>\n",
       "    </tr>\n",
       "    <tr>\n",
       "      <th>7</th>\n",
       "      <td>8</td>\n",
       "      <td>台北女子圖鑑</td>\n",
       "      <td>NaN</td>\n",
       "      <td>NaN</td>\n",
       "    </tr>\n",
       "    <tr>\n",
       "      <th>8</th>\n",
       "      <td>9</td>\n",
       "      <td>雪降花</td>\n",
       "      <td>NaN</td>\n",
       "      <td>NaN</td>\n",
       "    </tr>\n",
       "    <tr>\n",
       "      <th>9</th>\n",
       "      <td>10</td>\n",
       "      <td>月光騎士</td>\n",
       "      <td>NaN</td>\n",
       "      <td>NaN</td>\n",
       "    </tr>\n",
       "  </tbody>\n",
       "</table>\n",
       "</div>"
      ],
      "text/plain": [
       "   排名    戲劇名稱  disney+  2022 TOP 10 戲劇\n",
       "0   1     陰屍路      NaN             NaN\n",
       "1   2     如懿傳      NaN             NaN\n",
       "2   3    黑話律師      NaN             NaN\n",
       "3   4    醫法刑事      NaN             NaN\n",
       "4   5    千元律師      NaN             NaN\n",
       "5   6    摩登家庭      NaN             NaN\n",
       "6   7   正義的算法      NaN             NaN\n",
       "7   8  台北女子圖鑑      NaN             NaN\n",
       "8   9     雪降花      NaN             NaN\n",
       "9  10    月光騎士      NaN             NaN"
      ]
     },
     "execution_count": 3,
     "metadata": {},
     "output_type": "execute_result"
    }
   ],
   "source": [
    "drama2"
   ]
  },
  {
   "cell_type": "code",
   "execution_count": 4,
   "id": "c4f0081e",
   "metadata": {},
   "outputs": [],
   "source": [
    "all_name1 = set(drama1['戲劇名稱'])"
   ]
  },
  {
   "cell_type": "code",
   "execution_count": 5,
   "id": "78ab465f",
   "metadata": {},
   "outputs": [
    {
     "data": {
      "text/plain": [
       "{'且試天下',\n",
       " '二十五，二十一',\n",
       " '來吧！營業中',\n",
       " '我們的藍調時光',\n",
       " '星漢燦爛·月升滄海',\n",
       " '社內相親',\n",
       " '華燈初上',\n",
       " '蒼蘭訣',\n",
       " '還魂',\n",
       " '非常律師禹英禑'}"
      ]
     },
     "execution_count": 5,
     "metadata": {},
     "output_type": "execute_result"
    }
   ],
   "source": [
    "all_name1"
   ]
  },
  {
   "cell_type": "code",
   "execution_count": 6,
   "id": "09db0547",
   "metadata": {},
   "outputs": [],
   "source": [
    "all_name2 = set(drama2['戲劇名稱'])"
   ]
  },
  {
   "cell_type": "code",
   "execution_count": 7,
   "id": "e631c8ec",
   "metadata": {},
   "outputs": [
    {
     "data": {
      "text/plain": [
       "{'千元律師',\n",
       " '台北女子圖鑑',\n",
       " '如懿傳',\n",
       " '摩登家庭',\n",
       " '月光騎士',\n",
       " '正義的算法',\n",
       " '醫法刑事',\n",
       " '陰屍路',\n",
       " '雪降花',\n",
       " '黑話律師'}"
      ]
     },
     "execution_count": 7,
     "metadata": {},
     "output_type": "execute_result"
    }
   ],
   "source": [
    "all_name2"
   ]
  },
  {
   "cell_type": "code",
   "execution_count": 9,
   "id": "780971f2",
   "metadata": {},
   "outputs": [
    {
     "data": {
      "text/plain": [
       "set()"
      ]
     },
     "execution_count": 9,
     "metadata": {},
     "output_type": "execute_result"
    }
   ],
   "source": [
    "(all_name1 & all_name2)"
   ]
  },
  {
   "cell_type": "code",
   "execution_count": 10,
   "id": "709b1667",
   "metadata": {},
   "outputs": [
    {
     "data": {
      "text/plain": [
       "{'且試天下',\n",
       " '二十五，二十一',\n",
       " '來吧！營業中',\n",
       " '千元律師',\n",
       " '台北女子圖鑑',\n",
       " '如懿傳',\n",
       " '我們的藍調時光',\n",
       " '摩登家庭',\n",
       " '星漢燦爛·月升滄海',\n",
       " '月光騎士',\n",
       " '正義的算法',\n",
       " '社內相親',\n",
       " '華燈初上',\n",
       " '蒼蘭訣',\n",
       " '還魂',\n",
       " '醫法刑事',\n",
       " '陰屍路',\n",
       " '雪降花',\n",
       " '非常律師禹英禑',\n",
       " '黑話律師'}"
      ]
     },
     "execution_count": 10,
     "metadata": {},
     "output_type": "execute_result"
    }
   ],
   "source": [
    "(all_name1 | all_name2)"
   ]
  },
  {
   "cell_type": "code",
   "execution_count": 11,
   "id": "cb331bfc",
   "metadata": {},
   "outputs": [
    {
     "data": {
      "text/plain": [
       "{'且試天下',\n",
       " '二十五，二十一',\n",
       " '來吧！營業中',\n",
       " '千元律師',\n",
       " '台北女子圖鑑',\n",
       " '如懿傳',\n",
       " '我們的藍調時光',\n",
       " '摩登家庭',\n",
       " '星漢燦爛·月升滄海',\n",
       " '月光騎士',\n",
       " '正義的算法',\n",
       " '社內相親',\n",
       " '華燈初上',\n",
       " '蒼蘭訣',\n",
       " '還魂',\n",
       " '醫法刑事',\n",
       " '陰屍路',\n",
       " '雪降花',\n",
       " '非常律師禹英禑',\n",
       " '黑話律師'}"
      ]
     },
     "execution_count": 11,
     "metadata": {},
     "output_type": "execute_result"
    }
   ],
   "source": [
    "(all_name1 | all_name2 -(all_name1 & all_name2))"
   ]
  },
  {
   "cell_type": "code",
   "execution_count": 12,
   "id": "dc201934",
   "metadata": {},
   "outputs": [
    {
     "data": {
      "text/plain": [
       "{'千元律師',\n",
       " '台北女子圖鑑',\n",
       " '如懿傳',\n",
       " '摩登家庭',\n",
       " '月光騎士',\n",
       " '正義的算法',\n",
       " '醫法刑事',\n",
       " '陰屍路',\n",
       " '雪降花',\n",
       " '黑話律師'}"
      ]
     },
     "execution_count": 12,
     "metadata": {},
     "output_type": "execute_result"
    }
   ],
   "source": [
    "(all_name2 - (all_name1 & all_name2))"
   ]
  },
  {
   "cell_type": "code",
   "execution_count": 13,
   "id": "85e92bc3",
   "metadata": {},
   "outputs": [
    {
     "data": {
      "text/plain": [
       "{'且試天下',\n",
       " '二十五，二十一',\n",
       " '來吧！營業中',\n",
       " '千元律師',\n",
       " '台北女子圖鑑',\n",
       " '如懿傳',\n",
       " '我們的藍調時光',\n",
       " '摩登家庭',\n",
       " '星漢燦爛·月升滄海',\n",
       " '月光騎士',\n",
       " '正義的算法',\n",
       " '社內相親',\n",
       " '華燈初上',\n",
       " '蒼蘭訣',\n",
       " '還魂',\n",
       " '醫法刑事',\n",
       " '陰屍路',\n",
       " '雪降花',\n",
       " '非常律師禹英禑',\n",
       " '黑話律師'}"
      ]
     },
     "execution_count": 13,
     "metadata": {},
     "output_type": "execute_result"
    }
   ],
   "source": [
    "(all_name2 | all_name1 -(all_name1 & all_name2))"
   ]
  },
  {
   "cell_type": "code",
   "execution_count": null,
   "id": "3d8f7513",
   "metadata": {},
   "outputs": [],
   "source": []
  }
 ],
 "metadata": {
  "kernelspec": {
   "display_name": "Python 3 (ipykernel)",
   "language": "python",
   "name": "python3"
  },
  "language_info": {
   "codemirror_mode": {
    "name": "ipython",
    "version": 3
   },
   "file_extension": ".py",
   "mimetype": "text/x-python",
   "name": "python",
   "nbconvert_exporter": "python",
   "pygments_lexer": "ipython3",
   "version": "3.9.13"
  }
 },
 "nbformat": 4,
 "nbformat_minor": 5
}
